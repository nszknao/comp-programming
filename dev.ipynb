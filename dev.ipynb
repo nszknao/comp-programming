{
 "cells": [
  {
   "cell_type": "markdown",
   "metadata": {},
   "source": [
    "## Utils"
   ]
  },
  {
   "cell_type": "code",
   "execution_count": null,
   "metadata": {},
   "outputs": [],
   "source": [
    "# input系\n",
    "n = int(input())\n",
    "a, b = map(int, input().split(' '))\n",
    "\n",
    "q, mod = divmod(10, 3)"
   ]
  },
  {
   "cell_type": "markdown",
   "metadata": {},
   "source": [
    "## メモ書き"
   ]
  },
  {
   "cell_type": "code",
   "execution_count": 82,
   "metadata": {},
   "outputs": [
    {
     "output_type": "stream",
     "name": "stdout",
     "text": "1800\n"
    }
   ],
   "source": [
    "n, k = map(int, input().split(' '))\n",
    "\n"
   ]
  },
  {
   "cell_type": "code",
   "execution_count": 7,
   "metadata": {},
   "outputs": [
    {
     "name": "stdout",
     "output_type": "stream",
     "text": [
      "6\n",
      "382253568 723152896 37802240 379425024 404894720 471526144\n",
      "8\n"
     ]
    }
   ],
   "source": [
    "n = int(input())\n",
    "a = [int(ai) for ai in input().split(' ')]\n",
    "\n",
    "def check(arr):\n",
    "    for idx in range(n):\n",
    "        if arr[idx] % 2 == 0:\n",
    "            arr[idx] = a[idx] / 2\n",
    "        else:\n",
    "            return False\n",
    "\n",
    "    return arr\n",
    "\n",
    "ret = 0\n",
    "while True:\n",
    "    check_ret = check(a)\n",
    "\n",
    "    if check_ret == False:\n",
    "        break\n",
    "\n",
    "    ret += 1\n",
    "\n",
    "print(ret)"
   ]
  },
  {
   "cell_type": "code",
   "execution_count": 11,
   "metadata": {},
   "outputs": [
    {
     "name": "stdout",
     "output_type": "stream",
     "text": [
      "2\n",
      "2\n",
      "2\n",
      "100\n",
      "2\n"
     ]
    }
   ],
   "source": [
    "a = int(input())\n",
    "b = int(input())\n",
    "c = int(input())\n",
    "x = int(input())\n",
    "\n",
    "ret = 0\n",
    "for ai in range(a+1):\n",
    "    for bi in range(b+1):\n",
    "        for ci in range(c+1):\n",
    "            if 500*ai + 100*bi + 50*ci == x:\n",
    "                ret += 1\n",
    "\n",
    "print(ret)"
   ]
  },
  {
   "cell_type": "code",
   "execution_count": 19,
   "metadata": {},
   "outputs": [
    {
     "name": "stdout",
     "output_type": "stream",
     "text": [
      "20 2 5\n",
      "2 2\n",
      "3 3\n",
      "4 4\n",
      "5 5\n",
      "11 2\n",
      "12 3\n",
      "13 4\n",
      "14 5\n",
      "20 2\n",
      "84\n"
     ]
    }
   ],
   "source": [
    "n, a, b = map(int, input().split(' '))\n",
    "\n",
    "ret = 0\n",
    "for val in range(1, n + 1):\n",
    "    digit_sum = sum(list(map(int, str(val))))\n",
    "    if (a <= digit_sum <= b):\n",
    "        ret += val\n",
    "\n",
    "print(ret)"
   ]
  },
  {
   "cell_type": "code",
   "execution_count": 24,
   "metadata": {},
   "outputs": [
    {
     "name": "stdout",
     "output_type": "stream",
     "text": [
      "2\n",
      "3 1\n",
      "2\n"
     ]
    }
   ],
   "source": [
    "n = int(input())\n",
    "a = map(int, input().split(' '))\n",
    "\n",
    "alice = list()\n",
    "bob = list()\n",
    "sorted_a = sorted(a, reverse=True)\n",
    "while(len(sorted_a) != 0):\n",
    "    try:\n",
    "        alice.append(sorted_a.pop(0))\n",
    "        bob.append(sorted_a.pop(0))\n",
    "    except:\n",
    "        pass\n",
    "\n",
    "print(sum(alice) - sum(bob))"
   ]
  },
  {
   "cell_type": "code",
   "execution_count": 26,
   "metadata": {},
   "outputs": [
    {
     "name": "stdout",
     "output_type": "stream",
     "text": [
      "4\n",
      "10\n",
      "8\n",
      "8\n",
      "6\n",
      "3\n"
     ]
    }
   ],
   "source": [
    "n = int(input())\n",
    "s = set()\n",
    "for i in range(n):\n",
    "    s.add(int(input()))\n",
    "\n",
    "print(len(s))"
   ]
  },
  {
   "cell_type": "code",
   "execution_count": 43,
   "metadata": {},
   "outputs": [
    {
     "name": "stdout",
     "output_type": "stream",
     "text": [
      "2000 20000000\n",
      "2000 0 0\n"
     ]
    }
   ],
   "source": [
    "n, y = map(int, input().split(' '))\n",
    "\n",
    "# q10, mod10 = divmod(y, 10000)\n",
    "# q5, mod5 = divmod(mod10, 5000)\n",
    "# q1, mod1 = divmod(mod5, 1000)\n",
    "\n",
    "# if mod1 != 0:\n",
    "#     print('-1 -1 -1')\n",
    "# else:\n",
    "#     print(f'{q10} {q5} {q1}')\n",
    "check = False\n",
    "for q10 in range(n+1):\n",
    "    for q5 in range(n - q10+1):\n",
    "        q1 = n - q10 - q5\n",
    "        if 10000*q10 + 5000*q5 + 1000*q1 == y:\n",
    "            print('{0} {1} {2}'.format(q10, q5, q1))\n",
    "            check = True\n",
    "            break\n",
    "    else:\n",
    "        continue\n",
    "    break\n",
    "\n",
    "if check == False:\n",
    "    print('-1 -1 -1')\n"
   ]
  },
  {
   "cell_type": "code",
   "execution_count": 6,
   "metadata": {},
   "outputs": [
    {
     "name": "stdout",
     "output_type": "stream",
     "text": [
      "NO\n"
     ]
    }
   ],
   "source": [
    "inp = input()\n",
    "\n",
    "def check(string):\n",
    "    while(True):\n",
    "        exists = False\n",
    "        for s in ['dream', 'dreamer', 'erase', 'eraser']:\n",
    "            if string == s:\n",
    "                return True\n",
    "\n",
    "            sub_str = string[-1*len(s):]\n",
    "            if sub_str == s:\n",
    "                string = string[:-1*len(s)]\n",
    "                exists = True\n",
    "\n",
    "        if exists == False:\n",
    "            return False\n",
    "\n",
    "print('YES') if check(inp) else print('NO')"
   ]
  },
  {
   "cell_type": "code",
   "execution_count": 14,
   "metadata": {},
   "outputs": [
    {
     "name": "stdout",
     "output_type": "stream",
     "text": [
      "2\n",
      "5 1 1\n",
      "100 1 1\n",
      "No\n"
     ]
    }
   ],
   "source": [
    "n = int(input())\n",
    "# [ti, xi, yi]\n",
    "positions = list()\n",
    "for i in range(n):\n",
    "    positions.append(list(map(int, input().split(' '))))\n",
    "\n",
    "def is_even(num):\n",
    "    return num % 2 == 0\n",
    "\n",
    "can_move = True\n",
    "for pos in positions:\n",
    "    if pos[1] + pos[2] > pos[0]:\n",
    "        can_move = False\n",
    "        break\n",
    "    sum_pos = pos[1] + pos[2]\n",
    "    if is_even(sum_pos) != is_even(pos[0]):\n",
    "        can_move = False\n",
    "        break\n",
    "\n",
    "print('Yes') if can_move else print('No')"
   ]
  },
  {
   "cell_type": "code",
   "execution_count": 23,
   "metadata": {},
   "outputs": [
    {
     "name": "stdout",
     "output_type": "stream",
     "text": [
      "1\n",
      "4\n",
      "1 2 3 4\n",
      "2 1 4 3\n",
      "3 4 1 2\n",
      "4 3 2 1\n",
      "Case #1: 4 0 0\n"
     ]
    }
   ],
   "source": [
    "t = int(input())\n",
    "\n",
    "matrix = list()\n",
    "for j in range(t):\n",
    "    n = int(input())\n",
    "    mat = list()\n",
    "    for i in range(n):\n",
    "        mat.append(list(map(int, input().split(' '))))\n",
    "    matrix.append((n, mat, list(zip(*mat))))\n",
    "\n",
    "for idx in range(t):\n",
    "    mat = matrix[idx][1]\n",
    "    mat_t = matrix[idx][2]\n",
    "    k = 0\n",
    "    r = 0\n",
    "    c = 0\n",
    "    for col in range(matrix[idx][0]):\n",
    "        for row in range(matrix[idx][0]):\n",
    "            if col == row:\n",
    "                k += mat[col][row]\n",
    "        if len(mat[col]) != len(set(mat[col])):\n",
    "            r += 1\n",
    "        if len(mat_t[col]) != len(set(mat_t[col])):\n",
    "            c += 1\n",
    "            \n",
    "    print('Case #{0}: {1} {2} {3}'.format(idx+1, k, r, c))"
   ]
  },
  {
   "cell_type": "code",
   "execution_count": 31,
   "metadata": {},
   "outputs": [
    {
     "name": "stdout",
     "output_type": "stream",
     "text": [
      "4\n",
      "0000\n",
      "101\n",
      "111000\n",
      "1\n",
      "Case #1: 0000\n",
      "Case #2: (1)0(1)\n",
      "Case #3: (111)000\n",
      "Case #4: (1)\n"
     ]
    }
   ],
   "source": [
    "t = int(input())\n",
    "cases = list()\n",
    "for _ in range(t):\n",
    "    cases.append(input())\n",
    "\n",
    "def paren(num, s):\n",
    "    return ''.join([s for _ in range(num)])\n",
    "\n",
    "for idx, case in enumerate(cases):\n",
    "    ret_case = ''\n",
    "    nest = 0\n",
    "    for n, letter in enumerate(case):\n",
    "        if int(letter) > nest:\n",
    "            ret_case += paren(int(letter) - nest, '(')\n",
    "            ret_case += letter\n",
    "            nest = int(letter)\n",
    "        elif int(letter) < nest:\n",
    "            ret_case += paren(nest - int(letter), ')')\n",
    "            ret_case += letter\n",
    "            nest = int(letter)\n",
    "        else:\n",
    "            ret_case += letter\n",
    "\n",
    "        if n == len(case) -1:\n",
    "            ret_case += paren(nest, ')')\n",
    "            \n",
    "    print('Case #{0}: {1}'.format(idx+1, ret_case))"
   ]
  },
  {
   "cell_type": "code",
   "execution_count": 94,
   "metadata": {},
   "outputs": [
    {
     "name": "stdout",
     "output_type": "stream",
     "text": [
      "1\n",
      "3\n",
      "0 720\n",
      "720 1440\n",
      "0 720\n",
      "Case #1: CCJ\n"
     ]
    }
   ],
   "source": [
    "t = int(input())\n",
    "\n",
    "jobs = list()\n",
    "for _ in range(t):\n",
    "    n = int(input())\n",
    "    job = list()\n",
    "    for _ in range(n):\n",
    "        job.append(list(map(int, input().split(' '))))\n",
    "    jobs.append(job)\n",
    "\n",
    "for idx, job in enumerate(jobs):\n",
    "    works = ''\n",
    "    jamie = [0] * 1440\n",
    "    cameron = [0] * 1440\n",
    "    for between in job:\n",
    "        if sum(cameron[between[0]:between[1]]) == 0:\n",
    "            # cameron is free\n",
    "            cameron[between[0]:between[1]] = [1] * (between[1] - between[0])\n",
    "            works += 'C'\n",
    "        elif sum(jamie[between[0]:between[1]]) == 0:\n",
    "            # jamie is free\n",
    "            jamie[between[0]:between[1]] = [1] * (between[1] - between[0])\n",
    "            works += 'J'\n",
    "        else:\n",
    "            print('Case #{0}: IMPOSSIBLE'.format(idx+1))\n",
    "            break\n",
    "    else:\n",
    "        print('Case #{0}: {1}'.format(idx+1, works))"
   ]
  },
  {
   "cell_type": "code",
   "execution_count": null,
   "metadata": {},
   "outputs": [],
   "source": [
    "a = [0,1,2,3,4,5]\n",
    "a[2:4] = [9] * 2\n",
    "a"
   ]
  },
  {
   "cell_type": "code",
   "execution_count": 98,
   "metadata": {},
   "outputs": [
    {
     "name": "stdout",
     "output_type": "stream",
     "text": [
      "[1, 1, 0, 0, 0, 0, 0, 0, 0, 0]\n",
      "0\n",
      "[1, 1, 1, 0, 0, 0, 0, 0, 0, 0]\n",
      "3\n",
      "[1, 1, 1, 0, 0, 1, 1, 1, 1, 1]\n"
     ]
    }
   ],
   "source": [
    "a = [0] * 10\n",
    "# 1 2\n",
    "a[0:2] = [1]*(2)\n",
    "print(a)\n",
    "print(sum(a[2:3]))\n",
    "a[2:3] = [1]*(1)\n",
    "print(a)\n",
    "print(sum(a[0:3]))\n",
    "a[5:10] = [1]*(5)\n",
    "print(a)"
   ]
  },
  {
   "cell_type": "code",
   "execution_count": 62,
   "metadata": {},
   "outputs": [
    {
     "data": {
      "text/plain": [
       "1"
      ]
     },
     "execution_count": 62,
     "metadata": {},
     "output_type": "execute_result"
    }
   ],
   "source": [
    "jamie[1440]"
   ]
  },
  {
   "cell_type": "code",
   "execution_count": 99,
   "metadata": {},
   "outputs": [
    {
     "name": "stdout",
     "output_type": "stream",
     "text": [
      "1 2 3\n",
      "3 1 2\n"
     ]
    }
   ],
   "source": [
    "x, y, z = input().split(' ')\n",
    "print('{0} {1} {2}'.format(z, x, y))"
   ]
  },
  {
   "cell_type": "code",
   "execution_count": 105,
   "metadata": {},
   "outputs": [
    {
     "name": "stdout",
     "output_type": "stream",
     "text": [
      "3 2\n",
      "380 19 1\n",
      "No\n"
     ]
    }
   ],
   "source": [
    "n, m = map(int, input().split(' '))\n",
    "a = list(map(int, input().split(' ')))\n",
    "\n",
    "thres = sum(a) / 4 / m\n",
    "select = 0\n",
    "for ai in a:\n",
    "    if ai >= thres:\n",
    "        select += 1\n",
    "\n",
    "if select >= m:\n",
    "    print('Yes')\n",
    "else:\n",
    "    print('No')"
   ]
  },
  {
   "cell_type": "code",
   "execution_count": 161,
   "metadata": {},
   "outputs": [
    {
     "name": "stdout",
     "output_type": "stream",
     "text": [
      "5 6\n",
      "1\n"
     ]
    }
   ],
   "source": [
    "n, k = map(int, input().split(' '))\n",
    "\n",
    "tmp = n % k\n",
    "while(True):\n",
    "    prev_n = tmp\n",
    "    tmp = abs(tmp - k)\n",
    "    if prev_n <= tmp:\n",
    "        print(prev_n)\n",
    "        break"
   ]
  },
  {
   "cell_type": "code",
   "execution_count": 208,
   "metadata": {},
   "outputs": [
    {
     "name": "stdout",
     "output_type": "stream",
     "text": [
      "314159265358\n",
      "9\n"
     ]
    }
   ],
   "source": [
    "n = int(input())\n",
    "\n",
    "ret = 0\n",
    "for i in make_divisors(n):\n",
    "    if i == 1: continue\n",
    "    tmp = n\n",
    "    while(tmp%i == 0):\n",
    "        tmp /= i\n",
    "    mod = tmp % i\n",
    "    if mod == 1:\n",
    "        ret += 1\n",
    "ret += len(make_divisors(n-1)) - 1\n",
    "print(ret)"
   ]
  },
  {
   "cell_type": "code",
   "execution_count": 184,
   "metadata": {},
   "outputs": [
    {
     "name": "stdout",
     "output_type": "stream",
     "text": [
      "100000\n",
      "3234566667\n"
     ]
    }
   ],
   "source": [
    "import queue\n",
    "\n",
    "k = int(input())\n",
    "\n",
    "if k < 10:\n",
    "    print(k)\n",
    "else:\n",
    "    q = queue.Queue()\n",
    "    for i in range(1, 10):\n",
    "        q.put(i)\n",
    "\n",
    "    cnt = 10\n",
    "    while(True):\n",
    "        item = q.get()\n",
    "        mod = item % 10\n",
    "\n",
    "        if mod != 0:\n",
    "            tmp = 10*item + mod - 1\n",
    "            if cnt == k:\n",
    "                print(tmp)\n",
    "                break\n",
    "            q.put(tmp)\n",
    "            cnt += 1\n",
    "\n",
    "        tmp = 10*item + mod\n",
    "        if cnt == k:\n",
    "            print(tmp)\n",
    "            break\n",
    "        q.put(tmp)\n",
    "        cnt += 1\n",
    "\n",
    "        if mod != 9:\n",
    "            tmp = 10*item + mod + 1\n",
    "            if cnt == k:\n",
    "                print(tmp)\n",
    "                break\n",
    "            q.put(tmp)\n",
    "            cnt += 1"
   ]
  },
  {
   "cell_type": "code",
   "execution_count": 205,
   "metadata": {},
   "outputs": [],
   "source": [
    "# 約数を列挙\n",
    "def make_divisors(n):\n",
    "    divisors = []\n",
    "    for i in range(1, int(n**0.5)+1):\n",
    "        if n % i == 0:\n",
    "            divisors.append(i)\n",
    "            if i != n // i:\n",
    "                divisors.append(n//i)\n",
    "\n",
    "    # divisors.sort()\n",
    "    return divisors"
   ]
  },
  {
   "cell_type": "code",
   "execution_count": null,
   "metadata": {},
   "outputs": [],
   "source": []
  }
 ],
 "metadata": {
  "kernelspec": {
   "display_name": "Python 3",
   "language": "python",
   "name": "python3"
  },
  "language_info": {
   "codemirror_mode": {
    "name": "ipython",
    "version": 3
   },
   "file_extension": ".py",
   "mimetype": "text/x-python",
   "name": "python",
   "nbconvert_exporter": "python",
   "pygments_lexer": "ipython3",
   "version": "3.7.5-final"
  }
 },
 "nbformat": 4,
 "nbformat_minor": 4
}