{
 "cells": [
  {
   "cell_type": "markdown",
   "metadata": {},
   "source": [
    "# qiitaの [レッドコーダーが教える、競プロ・AtCoder上達のガイドライン【中級編：目指せ水色コーダー！】](https://qiita.com/e869120/items/eb50fdaece12be418faa#2-3-%E5%88%86%E9%87%8E%E5%88%A5%E5%88%9D%E4%B8%AD%E7%B4%9A%E8%80%85%E3%81%8C%E8%A7%A3%E3%81%8F%E3%81%B9%E3%81%8D%E9%81%8E%E5%8E%BB%E5%95%8F%E7%B2%BE%E9%81%B8-100-%E5%95%8F) を解く\n",
    "2020/04/19~"
   ]
  },
  {
   "cell_type": "code",
   "execution_count": 1,
   "metadata": {},
   "outputs": [
    {
     "output_type": "display_data",
     "data": {
      "text/plain": "Textarea(value='')",
      "application/vnd.jupyter.widget-view+json": {
       "version_major": 2,
       "version_minor": 0,
       "model_id": "62257138b1c349cbb7a88e87abec5bc4"
      }
     },
     "metadata": {}
    }
   ],
   "source": [
    "from ipywidgets import Textarea\n",
    "import io\n",
    "\n",
    "if 'open' in globals():\n",
    "    del open\n",
    "original_open = open\n",
    "\n",
    "class custom_open():\n",
    "    def __init__(self):\n",
    "        self.text = ''\n",
    "\n",
    "    def __call__(self, file, *args, **kwargs):\n",
    "        if file == 0:\n",
    "            return io.StringIO(self.text)\n",
    "        return original_open(file, *args, **kwargs)\n",
    "\n",
    "    def updater(self, change):\n",
    "        self.text = change[\"new\"]\n",
    "\n",
    "open = custom_open()\n",
    "text_area = Textarea()\n",
    "text_area.observe(open.updater, names='value')\n",
    "display(text_area)"
   ]
  },
  {
   "cell_type": "markdown",
   "metadata": {},
   "source": [
    "## 全探索：全列挙"
   ]
  },
  {
   "cell_type": "markdown",
   "metadata": {},
   "source": [
    "### [1　ITP1_7_B - How Many Ways?](http://judge.u-aizu.ac.jp/onlinejudge/description.jsp?id=ITP1_7_B&lang=ja)"
   ]
  },
  {
   "cell_type": "code",
   "execution_count": null,
   "metadata": {},
   "outputs": [],
   "source": [
    "import itertools\n",
    "\n",
    "while True:\n",
    "    n, x = map(int, input().split(' '))\n",
    "    if (n == 0) & (x == 0): break\n",
    "\n",
    "    ret = 0\n",
    "    for v in itertools.combinations(list(range(1, n + 1)), 3):\n",
    "        if sum(v) == x:\n",
    "            ret += 1\n",
    "\n",
    "    print(ret)"
   ]
  },
  {
   "cell_type": "markdown",
   "metadata": {},
   "source": [
    "### [2　AtCoder Beginner Contest 106 B - 105](https://atcoder.jp/contests/abc106/tasks/abc106_b)"
   ]
  },
  {
   "cell_type": "code",
   "execution_count": null,
   "metadata": {},
   "outputs": [],
   "source": [
    "n = int(input())\n",
    "\n",
    "def make_divisors(n):\n",
    "    divisors = []\n",
    "    for i in range(1, int(n**0.5)+1):\n",
    "        if n % i == 0:\n",
    "            divisors.append(i)\n",
    "            if i != n // i:\n",
    "                divisors.append(n//i)\n",
    "    return divisors\n",
    "\n",
    "ret = 0\n",
    "for ni in range(1, n+1):\n",
    "    if ni % 2 == 0 :continue\n",
    "    divisors = make_divisors(ni)\n",
    "    if len(divisors) == 8:\n",
    "        ret += 1\n",
    "\n",
    "print(ret)"
   ]
  },
  {
   "cell_type": "markdown",
   "metadata": {},
   "source": [
    "### [3　AtCoder Beginner Contest 122 B - ATCoder](https://atcoder.jp/contests/abc122/tasks/abc122_b)"
   ]
  },
  {
   "cell_type": "code",
   "execution_count": null,
   "metadata": {},
   "outputs": [],
   "source": [
    "s = input()\n",
    "\n",
    "compare = ['A', 'C', 'G', 'T']\n",
    "max_str = ''\n",
    "tmp = ''\n",
    "for si in s:\n",
    "    if si in compare:\n",
    "        tmp += si\n",
    "        if len(tmp) > len(max_str):\n",
    "            max_str = tmp\n",
    "    else:\n",
    "        tmp = ''\n",
    "\n",
    "print(len(max_str))"
   ]
  },
  {
   "cell_type": "markdown",
   "metadata": {},
   "source": [
    "### [4　パ研杯2019 C - カラオケ](https://atcoder.jp/contests/pakencamp-2019-day3/tasks/pakencamp_2019_day3_c)"
   ]
  },
  {
   "cell_type": "code",
   "execution_count": null,
   "metadata": {},
   "outputs": [],
   "source": [
    "import itertools\n",
    "\n",
    "n, m = map(int, input().split(' '))\n",
    "a = []\n",
    "for _ in range(n):\n",
    "    a.append(list(map(int, input().split(' '))))\n",
    "\n",
    "max_point = 0\n",
    "for m1, m2 in itertools.combinations(list(range(m)), 2):\n",
    "    tmp_point = 0\n",
    "    for ni in range(n):\n",
    "        tmp_point += max(a[ni][m1], a[ni][m2])\n",
    "    if max_point < tmp_point:\n",
    "        max_point = tmp_point\n",
    "\n",
    "print(max_point)"
   ]
  },
  {
   "cell_type": "markdown",
   "metadata": {},
   "source": [
    "## 全探索：工夫して通り数を減らす全列挙"
   ]
  },
  {
   "cell_type": "markdown",
   "metadata": {},
   "source": [
    "### [5　AtCoder Beginner Contest 095 C - Half and Half](https://atcoder.jp/contests/abc095/tasks/arc096_a)"
   ]
  },
  {
   "cell_type": "code",
   "execution_count": null,
   "metadata": {},
   "outputs": [],
   "source": [
    "a, b, c, x, y = map(int, input().split(' '))\n",
    "\n",
    "ans1 = c*max(x, y)*2\n",
    "\n",
    "tmp = min(x, y)\n",
    "ans2 = c*tmp*2 + a*max(x-tmp, 0) + b*max(y-tmp, 0)\n",
    "\n",
    "ans3 = a*x + b*y\n",
    "\n",
    "print(min(ans1, ans2, ans3))"
   ]
  },
  {
   "cell_type": "markdown",
   "metadata": {},
   "source": [
    "### [6　三井住友信託銀行プログラミングコンテスト 2019 D - Lucky PIN](https://atcoder.jp/contests/sumitrust2019/tasks/sumitb2019_d)"
   ]
  },
  {
   "cell_type": "code",
   "execution_count": null,
   "metadata": {
    "tags": [
     "outputPrepend"
    ]
   },
   "outputs": [],
   "source": [
    "n = int(input())\n",
    "s = input()\n",
    "\n",
    "import itertools\n",
    "\n",
    "# 想定される答えから探索する\n",
    "d = list()\n",
    "for d1, d2, d3 in itertools.product(range(10), range(10), range(10)):\n",
    "    d.append(str(d1) + str(d2) + str(d3))\n",
    "\n",
    "ret = 0\n",
    "for di in d:\n",
    "    ls = list(s)\n",
    "    try:\n",
    "        idx1 = ls.index(di[0])\n",
    "        idx2 = ls[idx1+1:].index(di[1])\n",
    "        idx3 = ls[idx1+1:][idx2+1:].index(di[2])\n",
    "        ret += 1\n",
    "    except:\n",
    "        continue\n",
    "\n",
    "print(ret)"
   ]
  },
  {
   "cell_type": "markdown",
   "metadata": {},
   "source": [
    "### [7　JOI 2007 本選 3 - 最古の遺跡](https://atcoder.jp/contests/joi2007ho/tasks/joi2007ho_c)"
   ]
  },
  {
   "cell_type": "code",
   "execution_count": null,
   "metadata": {
    "tags": [
     "outputPrepend"
    ]
   },
   "outputs": [],
   "source": [
    "cin = open(0).read().split('\\n')\n",
    "\n",
    "n = int(cin[0])\n",
    "pos = []\n",
    "for idx in range(n):\n",
    "    x, y = map(int, cin[idx+1].split(' '))\n",
    "    pos.append((x, y))\n",
    "\n",
    "pos = list(sorted(pos))\n",
    "pos_dict = set(pos)\n",
    "ret = 0\n",
    "for idx1 in range(n):\n",
    "    x1, y1 = pos[idx1]\n",
    "    for idx2 in range(idx1+1, n):\n",
    "        x2, y2 = pos[idx2]\n",
    "        vectorx, vectory = x2 - x1, y2 - y1\n",
    "        # & → andにしただけで1secくらい短くなった、、\n",
    "        # tupleは変数代入せずにinで比較した方が速い\n",
    "        if ((x2 - vectory, y2 + vectorx) in pos_dict) and ((x1 - vectory, y1 + vectorx) in pos_dict):\n",
    "            ret = max(ret, vectorx**2 + vectory**2)\n",
    "\n",
    "print(ret)"
   ]
  },
  {
   "cell_type": "markdown",
   "metadata": {},
   "source": [
    "### [8　Square869120Contest #6 B - AtCoder Markets](https://atcoder.jp/contests/s8pc-6/tasks/s8pc_6_b)"
   ]
  },
  {
   "cell_type": "code",
   "execution_count": null,
   "metadata": {},
   "outputs": [],
   "source": [
    "cin = open(0).read().split('\\n')\n",
    "\n",
    "n = int(cin[0])\n",
    "ab = []\n",
    "aa = []\n",
    "bb = []\n",
    "for idx in range(n):\n",
    "    a, b = map(int, cin[idx+1].split(' '))\n",
    "    aa.append(a)\n",
    "    bb.append(b)\n",
    "    ab.append((a, b))\n",
    "\n",
    "ret = []\n",
    "for aai in aa:\n",
    "    for bbi in bb:\n",
    "        tmp = 0\n",
    "        for ai, bi in ab:\n",
    "            tmp += (abs(aai-ai) + bi-ai + abs(bi-bbi))\n",
    "        ret.append(tmp)\n",
    "\n",
    "print(min(ret))"
   ]
  },
  {
   "cell_type": "markdown",
   "metadata": {},
   "source": [
    "### [9　JOI 2008 予選 4 - 星座探し](https://atcoder.jp/contests/joi2008yo/tasks/joi2008yo_d)"
   ]
  },
  {
   "cell_type": "code",
   "execution_count": null,
   "metadata": {},
   "outputs": [],
   "source": [
    "cin = open(0).read().split('\\n')\n",
    "\n",
    "m = int(cin[0])\n",
    "target = []\n",
    "for idx in range(m):\n",
    "    x, y = map(int, cin[idx+1].split(' '))\n",
    "    target.append((x, y))\n",
    "n = int(cin[len(target) + 1])\n",
    "stars = []\n",
    "for idx in range(n):\n",
    "    x, y = map(int, cin[idx+len(target)+2].split(' '))\n",
    "    stars.append((x, y))\n",
    "starts_set = set(stars)\n",
    "\n",
    "for star in stars:\n",
    "    for stdrd in target[1:]:\n",
    "        diff_x = stdrd[0] - target[0][0]\n",
    "        diff_y = stdrd[1] - target[0][1]\n",
    "        if (star[0] + diff_x, star[1] + diff_y) not in starts_set:\n",
    "            break\n",
    "    else:\n",
    "        print(star[0] - target[0][0], star[1] - target[0][1])"
   ]
  },
  {
   "cell_type": "markdown",
   "metadata": {},
   "source": [
    "## 全探索：ビット全探索"
   ]
  },
  {
   "cell_type": "markdown",
   "metadata": {},
   "source": [
    "### [10　ALDS_5_A - 総当たり](http://judge.u-aizu.ac.jp/onlinejudge/description.jsp?id=ALDS1_5_A&lang=ja)"
   ]
  },
  {
   "cell_type": "code",
   "execution_count": null,
   "metadata": {},
   "outputs": [],
   "source": [
    "cin = open(0).read().split('\\n')\n",
    "\n",
    "n = int(cin[0])\n",
    "a = list(map(int, cin[1].split(' ')))\n",
    "q = int(cin[2])\n",
    "m = list(map(int, cin[3].split(' ')))\n",
    "\n",
    "tmp = set()\n",
    "for i in range(2**n):\n",
    "    ret = 0\n",
    "    for j in range(n):\n",
    "        if (i>>j) & 1:\n",
    "            ret += a[j]\n",
    "    tmp.add(ret)\n",
    "\n",
    "for mi in m:\n",
    "    if mi in tmp:\n",
    "        print('yes')\n",
    "    else:\n",
    "        print('no')"
   ]
  },
  {
   "cell_type": "markdown",
   "metadata": {},
   "source": [
    "### [11　AtCoder Beginner Contest 128 C - Switches](https://atcoder.jp/contests/abc128/tasks/abc128_c)"
   ]
  },
  {
   "cell_type": "code",
   "execution_count": null,
   "metadata": {},
   "outputs": [],
   "source": [
    "cin = open(0).read().split('\\n')\n",
    "\n",
    "n, m = map(int, cin[0].split(' '))\n",
    "s = []\n",
    "for row in cin[1:1+m]:\n",
    "    s.append(list(map(int, row.split(' ')[1:])))\n",
    "p = list(map(int, cin[1+m].split(' ')))\n",
    "\n",
    "ret = 0\n",
    "for ai in range(2**n):\n",
    "    flg = True\n",
    "    for idx, si in enumerate(s):\n",
    "        on_cnt = 0\n",
    "        for sii in si:\n",
    "            if (ai >> (sii-1)) & 1:\n",
    "                on_cnt += 1\n",
    "        if on_cnt % 2 != p[idx]:\n",
    "            flg = False\n",
    "    if flg:\n",
    "        ret += 1\n",
    "\n",
    "print(ret)"
   ]
  },
  {
   "cell_type": "markdown",
   "metadata": {},
   "source": [
    "### [12　AtCoder Beginner Contest 002 D - 派閥](https://atcoder.jp/contests/abc002/tasks/abc002_4)"
   ]
  },
  {
   "cell_type": "code",
   "execution_count": null,
   "metadata": {},
   "outputs": [],
   "source": [
    "# ↓ファイルの最後に改行入ってるトラップ\n",
    "cin = open(0).read().strip().split('\\n')\n",
    "n, m = map(int, cin[0].split(' '))\n",
    "xy = {tuple(map(int, a.split(' '))): True for a in cin[1:]}\n",
    "\n",
    "def popcount(x):\n",
    "    x = x - ((x >> 1) & 0x5555555555555555)\n",
    "\n",
    "    x = (x & 0x3333333333333333) + ((x >> 2) & 0x3333333333333333)\n",
    "\n",
    "    x = (x + (x >> 4)) & 0x0f0f0f0f0f0f0f0f # 8bitごと\n",
    "    x = x + (x >> 8) # 16bitごと\n",
    "    x = x + (x >> 16) # 32bitごと\n",
    "    x = x + (x >> 32) # 64bitごと = 全部の合計\n",
    "    return x & 0x0000007f\n",
    "\n",
    "ret = 0\n",
    "for ni in range(2**n):\n",
    "    flg = True\n",
    "    for xi in range(n):\n",
    "        for yi in range(xi+1, n):\n",
    "            if ((ni >> xi) & 1) and ((ni >> yi) & 1):\n",
    "                if ((xi+1), (yi+1)) not in xy:\n",
    "                    flg = False\n",
    "    if flg:\n",
    "        ret = max(ret, popcount(ni))\n",
    "\n",
    "print(ret)"
   ]
  },
  {
   "cell_type": "markdown",
   "metadata": {},
   "source": [
    "### [13　JOI 2008 予選 5 - おせんべい](https://atcoder.jp/contests/joi2008yo/tasks/joi2008yo_e)"
   ]
  },
  {
   "cell_type": "code",
   "execution_count": null,
   "metadata": {
    "tags": [
     "outputPrepend",
     "outputPrepend",
     "outputPrepend",
     "outputPrepend",
     "outputPrepend",
     "outputPrepend",
     "outputPrepend",
     "outputPrepend",
     "outputPrepend",
     "outputPrepend",
     "outputPrepend",
     "outputPrepend",
     "outputPrepend",
     "outputPrepend",
     "outputPrepend",
     "outputPrepend",
     "outputPrepend",
     "outputPrepend",
     "outputPrepend",
     "outputPrepend",
     "outputPrepend",
     "outputPrepend",
     "outputPrepend",
     "outputPrepend",
     "outputPrepend",
     "outputPrepend",
     "outputPrepend",
     "outputPrepend",
     "outputPrepend",
     "outputPrepend",
     "outputPrepend",
     "outputPrepend",
     "outputPrepend",
     "outputPrepend"
    ]
   },
   "outputs": [],
   "source": [
    "# 最後のテストケースだけ終わらんかった、、\n",
    "cin = open(0).read().strip().split('\\n')\n",
    "r, c = map(int, cin[0].split(' '))\n",
    "senbei = []\n",
    "for col in cin[1:]:\n",
    "    senbei.append(list(map(int, col.split(' '))))\n",
    "\n",
    "def inverse_col(ndarr):\n",
    "    tmp = [list(x) for x in zip(*ndarr)]\n",
    "    return sum([min(sum(tmp[ci]), r-sum(tmp[ci])) for ci in range(c)])\n",
    "\n",
    "comp = [1] * c\n",
    "ret = 0\n",
    "# 行ごとに処理するorしないをビット全探索する\n",
    "for i in range(2**r):\n",
    "    tmp_senbei = senbei.copy()\n",
    "    for j in range(r):\n",
    "        if (i >> j) & 1:\n",
    "            tmp_senbei[j] = [a - b for a, b in zip(comp, senbei[j])]\n",
    "    if ret == 0:\n",
    "        ret = inverse_col(tmp_senbei)\n",
    "    else:\n",
    "        ret = min(ret, inverse_col(tmp_senbei))\n",
    "\n",
    "print(r*c - ret)"
   ]
  },
  {
   "cell_type": "markdown",
   "metadata": {},
   "source": [
    "### [14　Square869120Contest #4 B - Buildings are Colorful!](https://atcoder.jp/contests/s8pc-4/tasks/s8pc_4_b)"
   ]
  },
  {
   "cell_type": "code",
   "execution_count": null,
   "metadata": {},
   "outputs": [],
   "source": [
    "cin = open(0).read().strip().split('\\n')\n",
    "n, k = map(int, cin[0].split(' '))\n",
    "a = list(map(int, cin[1].split(' ')))\n",
    "\n",
    "ret = float('inf')\n",
    "for idx in range(2**n):\n",
    "    colors = 0\n",
    "    res = 0\n",
    "    left = 0\n",
    "    for i in range(n):\n",
    "        if (idx>>i) & 1:\n",
    "            colors += 1\n",
    "            res += max(left+1 - a[i] , 0)\n",
    "            left = max(a[i], left+1)\n",
    "        else:\n",
    "            colors += 1 if left < a[i] else 0\n",
    "            left = max(left, a[i])\n",
    "\n",
    "    if colors >= k:\n",
    "        ret = min(ret, res)\n",
    "\n",
    "print(ret)"
   ]
  },
  {
   "cell_type": "markdown",
   "metadata": {},
   "source": [
    "## 全探索：順列全探索"
   ]
  },
  {
   "cell_type": "markdown",
   "metadata": {},
   "source": [
    "### [15　AtCoder Beginner Contest 145 C - Average Length](https://atcoder.jp/contests/abc145/tasks/abc145_c)"
   ]
  },
  {
   "cell_type": "code",
   "execution_count": null,
   "metadata": {},
   "outputs": [],
   "source": [
    "cin = open(0).read().strip().split('\\n')\n",
    "n = int(cin[0])\n",
    "xy = [tuple(map(int, a.split(' '))) for a in cin[1:]]\n",
    "\n",
    "import itertools, math\n",
    "\n",
    "ret = 0\n",
    "case = 0\n",
    "for cases in itertools.permutations(xy):\n",
    "    case += 1\n",
    "    for idx in range(n-1):\n",
    "        ret += math.sqrt((cases[idx][0]-cases[idx+1][0])**2 + (cases[idx][1]-cases[idx+1][1])**2)\n",
    "\n",
    "print(ret/case)"
   ]
  },
  {
   "cell_type": "markdown",
   "metadata": {},
   "source": [
    "### [16　AtCoder Beginner Contest 150 C - Count Order](https://atcoder.jp/contests/abc150/tasks/abc150_c)"
   ]
  },
  {
   "cell_type": "code",
   "execution_count": null,
   "metadata": {},
   "outputs": [],
   "source": [
    "cin = open(0).read().strip().split('\\n')\n",
    "n = int(cin[0])\n",
    "p = list(map(int, cin[1].split(' ')))\n",
    "q = list(map(int, cin[2].split(' ')))\n",
    "\n",
    "import itertools\n",
    "\n",
    "a = 0\n",
    "b = 0\n",
    "for idx, case in enumerate(itertools.permutations(range(1, n+1))):\n",
    "    if case == tuple(p):\n",
    "        a = idx+1\n",
    "    if case == tuple(q):\n",
    "        b = idx+1\n",
    "\n",
    "print(abs(a-b))"
   ]
  },
  {
   "cell_type": "markdown",
   "metadata": {},
   "source": [
    "### [17　ALDS_13_A - 8 クイーン問題](http://judge.u-aizu.ac.jp/onlinejudge/description.jsp?id=ALDS1_13_A&lang=ja)"
   ]
  },
  {
   "cell_type": "code",
   "execution_count": 209,
   "metadata": {
    "tags": [
     "outputPrepend",
     "outputPrepend",
     "outputPrepend",
     "outputPrepend",
     "outputPrepend",
     "outputPrepend",
     "outputPrepend",
     "outputPrepend",
     "outputPrepend",
     "outputPrepend"
    ]
   },
   "outputs": [
    {
     "output_type": "stream",
     "name": "stdout",
     "text": ".......Q\n.Q......\n....Q...\n..Q.....\nQ.......\n......Q.\n...Q....\n.....Q..\n"
    }
   ],
   "source": [
    "cin = open(0).read().strip().split('\\n')\n",
    "k = int(cin[0])\n",
    "init_q = [tuple(map(int, a.split(' '))) for a in cin[1:]]\n",
    "\n",
    "import itertools, copy\n",
    "\n",
    "# ↓これは[0]のlistオブジェクトの同じIDを持つ要素を使い回すので、init_b[0][1] = 1したときにバグる\n",
    "# init_b = [[0] * 8] * 8\n",
    "init_b = [[0 for _ in range(8)] for _ in range(8)]\n",
    "for q in init_q:\n",
    "    init_b[q[0]][q[1]] = 1\n",
    "\n",
    "def culc_diag(list2d, k=0, r2l=False):\n",
    "    \"\"\"\n",
    "    対角成分の和を算出する（正方行列のみ）\n",
    "    numpyが使えない環境での使用を想定\n",
    "    k: np.diag()のkと同じ意味、スタートの位置を決める\n",
    "    r2l: 右上→左下方向かどうか\n",
    "    \"\"\"\n",
    "    n = len(list2d)\n",
    "\n",
    "    if r2l:\n",
    "        if k > 0:\n",
    "            return sum(list2d[i][n-1-k-i] for i in range(n-k))\n",
    "        else:\n",
    "            return sum(list2d[i-k][n-1-i] for i in range(n+k))\n",
    "    else:\n",
    "        if k > 0:\n",
    "            return sum(list2d[i][i+k] for i in range(n-k))\n",
    "        else:\n",
    "            return sum(list2d[i-k][i] for i in range(n+k))\n",
    "\n",
    "\n",
    "for cases in itertools.permutations(range(8)):\n",
    "    b = copy.deepcopy(init_b)\n",
    "    for idx, c in enumerate(cases):\n",
    "        if 1 != sum(b[idx]):\n",
    "            b[idx][c] = 1\n",
    "\n",
    "    if all([sum(a) for a in b]):\n",
    "        t_b = [list(x) for x in zip(*b)]\n",
    "        if all([sum(a) for a in t_b]):\n",
    "            flg = True\n",
    "            for i in range(8):\n",
    "                if (culc_diag(b, k=i, r2l=False) > 1) or (culc_diag(b, k=i, r2l=True) > 1) or (culc_diag(b, k=-1*i, r2l=False) > 1) or (culc_diag(b, k=-1*i, r2l=True) > 1):\n",
    "                    flg = False\n",
    "            if flg:\n",
    "                for row in b:\n",
    "                    new_b = []\n",
    "                    for ad in row:\n",
    "                        new_b.append('.' if ad == 0 else 'Q')\n",
    "                    print(''.join(new_b))\n",
    "                break"
   ]
  },
  {
   "cell_type": "markdown",
   "metadata": {},
   "source": [
    "## 二分探索"
   ]
  },
  {
   "cell_type": "markdown",
   "metadata": {},
   "source": [
    "### [18　ALDS_4_B - 二分探索](http://judge.u-aizu.ac.jp/onlinejudge/description.jsp?id=ALDS1_4_B&lang=ja)"
   ]
  },
  {
   "cell_type": "code",
   "execution_count": 217,
   "metadata": {},
   "outputs": [
    {
     "output_type": "stream",
     "name": "stdout",
     "text": "3\n"
    }
   ],
   "source": [
    "cin = open(0).read().strip().split('\\n')\n",
    "n = int(cin[0])\n",
    "s = list(map(int, cin[1].split(' ')))\n",
    "q = int(cin[2])\n",
    "t = list(map(int, cin[3].split(' ')))\n",
    "\n",
    "def binary_search(arr, item):\n",
    "    low = 0\n",
    "    high = len(arr) - 1\n",
    "    while low <= high:\n",
    "        mid = (low + high) // 2\n",
    "        guess = arr[mid]\n",
    "        if guess == item:\n",
    "            return mid\n",
    "        if guess > item:\n",
    "            high = mid - 1\n",
    "        else:\n",
    "            low = mid + 1\n",
    "\n",
    "    return None\n",
    "\n",
    "ret = 0\n",
    "for i in t:\n",
    "    if binary_search(s, i) is not None:\n",
    "        ret += 1\n",
    "\n",
    "print(ret)"
   ]
  },
  {
   "cell_type": "markdown",
   "metadata": {},
   "source": [
    "### [19　JOI 2009 本選 2 - ピザ](https://atcoder.jp/contests/joi2009ho/tasks/joi2009ho_b)"
   ]
  },
  {
   "cell_type": "code",
   "execution_count": 266,
   "metadata": {},
   "outputs": [
    {
     "output_type": "stream",
     "name": "stdout",
     "text": "3\n"
    }
   ],
   "source": [
    "cin = open(0).read().strip().split('\\n')\n",
    "d = int(cin[0])\n",
    "n = int(cin[1])\n",
    "m = int(cin[2])\n",
    "ds = [int(a) for a in cin[3:n+2]]\n",
    "ds = sorted([0] + ds + [d])\n",
    "ms = [int(a) for a in cin[-1*m:]]\n",
    "\n",
    "def binary_search(arr, item):\n",
    "    \"\"\"\n",
    "    arr: 昇順にソート済list\n",
    "    \"\"\"\n",
    "    low = 0\n",
    "    high = len(arr) - 1\n",
    "    while low <= high:\n",
    "        mid = (low + high) // 2\n",
    "        guess = arr[mid]\n",
    "        if guess > item:\n",
    "            high = mid - 1\n",
    "        else:\n",
    "            low = mid + 1\n",
    "\n",
    "    return min(abs(arr[low]-item), abs(arr[low-1]-item))\n",
    "\n",
    "ret = 0\n",
    "for i in ms:\n",
    "    ret += binary_search(ds, i)\n",
    "\n",
    "print(ret)"
   ]
  },
  {
   "cell_type": "markdown",
   "metadata": {},
   "source": [
    "### [20　AtCoder Beginner Contest 077 C - Snuke Festival](https://atcoder.jp/contests/abc077/tasks/arc084_a)"
   ]
  },
  {
   "cell_type": "code",
   "execution_count": 43,
   "metadata": {},
   "outputs": [
    {
     "output_type": "stream",
     "name": "stdout",
     "text": "87\n"
    }
   ],
   "source": [
    "cin = open(0).read().strip().split('\\n')\n",
    "n = int(cin[0])\n",
    "a = list(map(int, cin[1].split(' ')))\n",
    "b = list(map(int, cin[2].split(' ')))\n",
    "c = list(map(int, cin[3].split(' ')))\n",
    "\n",
    "a = sorted(a)\n",
    "b = sorted(b)\n",
    "c = sorted(c)\n",
    "\n",
    "from bisect import bisect_left, bisect\n",
    "\n",
    "# 真ん中のbを起点に考える、発想の転換\n",
    "# bisectライブラリ便利や\n",
    "print(sum([bisect_left(a, bi)*(n-bisect(c, bi)) for bi in b]))"
   ]
  },
  {
   "cell_type": "markdown",
   "metadata": {},
   "source": [
    "### [21　AtCoder Beginner Contest 023 D - 射撃王](https://atcoder.jp/contests/abc023/tasks/abc023_d)"
   ]
  },
  {
   "cell_type": "code",
   "execution_count": 49,
   "metadata": {},
   "outputs": [
    {
     "output_type": "stream",
     "name": "stdout",
     "text": "105 104\n"
    }
   ],
   "source": [
    "cin = open(0).read().strip().split('\\n')\n",
    "n = int(cin[0])\n",
    "hs = [tuple(map(int, a.split(' '))) for a in cin[1:]]\n",
    "\n",
    "def f(p):\n",
    "    tmp = [(p-hs[i][0])/hs[i][1] for i in range(n)]\n",
    "    tmp = sorted(tmp)\n",
    "    for i, a in enumerate(tmp):\n",
    "        if a < i:\n",
    "            return False\n",
    "    return True\n",
    "\n",
    "# 想定される全ての答えから二分探索で探す\n",
    "left = 0\n",
    "right = 10**14\n",
    "while right - left > 1:\n",
    "    mid = (left + right)//2\n",
    "    if f(mid):\n",
    "        # いつもrightが条件を満たす\n",
    "        right = mid\n",
    "    else:\n",
    "        left = mid\n",
    "\n",
    "# ↓いつもrightが条件を満たすので\n",
    "print(right)"
   ]
  },
  {
   "cell_type": "markdown",
   "metadata": {},
   "source": [
    "### [22　AtCoder Regular Contest 054 B - ムーアの法則](https://atcoder.jp/contests/arc054/tasks/arc054_b)"
   ]
  },
  {
   "cell_type": "code",
   "execution_count": 40,
   "metadata": {},
   "outputs": [
    {
     "output_type": "stream",
     "name": "stdout",
     "text": "2.870893001916099\n"
    }
   ],
   "source": [
    "p = float(input().strip())\n",
    "\n",
    "# 凸関数の最小値、最大値を求める時は三分探索\n",
    "\n",
    "left = 0\n",
    "right = 100 # sampleケースでinputが最大のときの答えが90ちょいだから\n",
    "\n",
    "def f(x):\n",
    "    return x + p/(2**(x/1.5))\n",
    "\n",
    "while right - left > 0.000000001:\n",
    "    mid_left = right/3 + left*2/3\n",
    "    mid_right = right*2/3 + left/3\n",
    "    if f(mid_left) > f(mid_right):\n",
    "        left = mid_left\n",
    "    else:\n",
    "        right = mid_right\n",
    "\n",
    "print(f(right))"
   ]
  },
  {
   "cell_type": "markdown",
   "metadata": {},
   "source": [
    "### [23　JOI 2008 本選 3 - ダーツ](https://atcoder.jp/contests/joi2008ho/tasks/joi2008ho_c)"
   ]
  },
  {
   "cell_type": "code",
   "execution_count": 30,
   "metadata": {},
   "outputs": [
    {
     "output_type": "stream",
     "name": "stdout",
     "text": "199999997\n"
    }
   ],
   "source": [
    "cin = open(0).read().strip().split('\\n')\n",
    "n, m = map(int, cin[0].split(' '))\n",
    "p = [0] + [int(v) for v in cin[1:]]\n",
    "\n",
    "\n",
    "pairs = set()\n",
    "for i in p:\n",
    "    for j in p:\n",
    "        pairs.add(i+j)\n",
    "\n",
    "from bisect import bisect\n",
    "\n",
    "ret = 0\n",
    "arr = sorted(list(pairs))\n",
    "for i in arr:\n",
    "    rest = m - (i)\n",
    "    if rest >= 0:\n",
    "        tmp = arr[bisect(arr, rest)-1]\n",
    "        ret = max(ret, tmp+i)\n",
    "\n",
    "print(ret)"
   ]
  },
  {
   "cell_type": "markdown",
   "metadata": {},
   "source": [
    "## 深さ優先探索"
   ]
  },
  {
   "cell_type": "markdown",
   "metadata": {},
   "source": [
    "### [24　ALDS_11_B - 深さ優先探索](http://judge.u-aizu.ac.jp/onlinejudge/description.jsp?id=ALDS1_11_B&lang=ja)"
   ]
  },
  {
   "cell_type": "code",
   "execution_count": 67,
   "metadata": {},
   "outputs": [
    {
     "output_type": "stream",
     "name": "stdout",
     "text": "1 1 8\n2 2 7\n3 9 12\n4 4 5\n5 3 6\n6 10 11\n"
    }
   ],
   "source": [
    "cin = open(0).read().strip().split('\\n')\n",
    "n = int(cin[0])\n",
    "g = [list(map(lambda x: int(x)-1, a.split(' ')[2:])) for a in cin[1:]]\n",
    "\n",
    "first_order = [-1] * n\n",
    "last_order = [-1] * n\n",
    "ptr = 1\n",
    "\n",
    "def dfs(g, seen, idx):\n",
    "    global first_order, first_order, ptr\n",
    "\n",
    "    first_order[idx] = ptr\n",
    "    ptr += 1\n",
    "\n",
    "    seen[idx] = True\n",
    "    for i in g[idx]:\n",
    "        # idxから行ける各頂点について\n",
    "        if seen[i]: continue\n",
    "        dfs(g, seen, i)\n",
    "\n",
    "    last_order[idx] = ptr\n",
    "    ptr += 1\n",
    "\n",
    "seen = [False] * n\n",
    "dfs(g, seen, 0)\n",
    "\n",
    "# 孤立している頂点対策\n",
    "for i in range(n):\n",
    "    if not seen[i]:\n",
    "        ans = dfs(g, seen, i)\n",
    "\n",
    "# 出力\n",
    "for idx, (f, l) in enumerate(zip(first_order, last_order)):\n",
    "    print(idx+1, f, l)"
   ]
  },
  {
   "cell_type": "markdown",
   "metadata": {},
   "source": [
    "### [25　AOJ 1160 - 島はいくつある？](http://judge.u-aizu.ac.jp/onlinejudge/description.jsp?id=1160&lang=jp)"
   ]
  },
  {
   "cell_type": "code",
   "execution_count": 18,
   "metadata": {},
   "outputs": [
    {
     "output_type": "stream",
     "name": "stdout",
     "text": "198\n55\n152\n18\n23\n7\n8\n13\n11\n1\n1\n0\n0\n1\n"
    }
   ],
   "source": [
    "cin = open(0).read().strip().split('\\n')\n",
    "\n",
    "dx = [0, 1, 1,  1,  0, -1, -1, -1]\n",
    "dy = [1, 1, 0, -1, -1, -1, 0,   1]\n",
    "\n",
    "def dfs(px, py, seen):\n",
    "    global xy, w, h\n",
    "\n",
    "    seen[py][px] = True\n",
    "    for dxi, dyi in zip(dx, dy):\n",
    "        if px+dxi < 0 or px+dxi >= w: continue\n",
    "        if py+dyi < 0 or py+dyi >= h: continue\n",
    "        if xy[py+dyi][px+dxi] == 0: continue\n",
    "        if seen[py+dyi][px+dxi]: continue\n",
    "        dfs(px+dxi, py+dyi, seen)\n",
    "\n",
    "num = 0\n",
    "while True:\n",
    "    w, h = map(int, cin[num].split(' '))\n",
    "    if w == 0 and h == 0:\n",
    "        break\n",
    "\n",
    "    xy = [list(map(int, a.split(' '))) for a in cin[num+1:num+1+h]]\n",
    "    cnt = 0\n",
    "\n",
    "    # 配列を*で増やすと参照になるので注意\n",
    "    seen = [[False for _ in range(w)] for _ in range(h)]\n",
    "    for wi in range(w):\n",
    "        for hi in range(h):\n",
    "            if xy[hi][wi] == 0: continue\n",
    "            if seen[hi][wi]: continue\n",
    "            dfs(wi, hi, seen)\n",
    "            cnt += 1\n",
    "\n",
    "    print(cnt)\n",
    "\n",
    "    num += (h + 1)"
   ]
  },
  {
   "cell_type": "markdown",
   "metadata": {},
   "source": [
    "### [26　AtCoder Beginner Contest 138 D - Ki](https://atcoder.jp/contests/abc138/tasks/abc138_d)"
   ]
  },
  {
   "cell_type": "code",
   "execution_count": 35,
   "metadata": {},
   "outputs": [
    {
     "output_type": "stream",
     "name": "stdout",
     "text": "100 110 111 110\n"
    }
   ],
   "source": [
    "cin = open(0).read().strip().split('\\n')\n",
    "n,q=map(int, cin[0].split(' '))\n",
    "ab = [tuple(map(int, a.split(' '))) for a in cin[1:n]]\n",
    "px = [tuple(map(int, a.split(' '))) for a in cin[n:n+q]]\n",
    "\n",
    "# Pythonは再帰のmaxが2000くらいなので、ブーストさせる\n",
    "import sys\n",
    "sys.setrecursionlimit(10**9)\n",
    "\n",
    "def dfs(g, idx, seen):\n",
    "    global score\n",
    "\n",
    "    seen[idx] = True\n",
    "    for i in g[idx]:\n",
    "        if seen[i]: continue\n",
    "        score[i] += score[idx]\n",
    "        dfs(g, i, seen)\n",
    "\n",
    "g = [[] for _ in range(n)]\n",
    "for abi in ab:\n",
    "    # 無向グラフはお互いが参照し合う\n",
    "    g[abi[0]-1].append(abi[1]-1)\n",
    "    g[abi[1]-1].append(abi[0]-1)\n",
    "\n",
    "score = [0]*n\n",
    "for pxi in px:\n",
    "    score[pxi[0]-1] += pxi[1]\n",
    "\n",
    "seen = [False]*n\n",
    "dfs(g, 0, seen)\n",
    "\n",
    "print(' '.join(map(str, score)))"
   ]
  },
  {
   "cell_type": "markdown",
   "metadata": {},
   "source": [
    "### [27　JOI 2009 予選 4 - 薄氷渡り](https://atcoder.jp/contests/joi2009yo/tasks/joi2009yo_d)"
   ]
  },
  {
   "cell_type": "code",
   "execution_count": 3,
   "metadata": {
    "tags": [
     "outputPrepend",
     "outputPrepend",
     "outputPrepend",
     "outputPrepend",
     "outputPrepend",
     "outputPrepend",
     "outputPrepend",
     "outputPrepend"
    ]
   },
   "outputs": [
    {
     "output_type": "stream",
     "name": "stdout",
     "text": "7\n"
    }
   ],
   "source": [
    "cin = open(0).read().strip().split('\\n')\n",
    "w = int(cin[0])\n",
    "h = int(cin[1])\n",
    "xy = [list(map(int, a.split(' '))) for a in cin[2:]]\n",
    "\n",
    "import sys\n",
    "sys.setrecursionlimit(10**9)\n",
    "\n",
    "dx = [0, 1,  0, -1]\n",
    "dy = [1, 0, -1, 0]\n",
    "\n",
    "def dfs(px, py, seen):\n",
    "    global xy, w, h\n",
    "\n",
    "    cnt = 1\n",
    "    xy[py][px] = 0 # 後戻り出来ないようにする\n",
    "    for dxi, dyi in zip(dx, dy):\n",
    "        if px+dxi < 0 or px+dxi >= w: continue\n",
    "        if py+dyi < 0 or py+dyi >= h: continue\n",
    "        if xy[py+dyi][px+dxi] == 0: continue\n",
    "        cnt = max(cnt, dfs(px+dxi, py+dyi, seen)+1)\n",
    "\n",
    "    xy[py][px] = 1\n",
    "    return cnt\n",
    "\n",
    "ret = 0\n",
    "for px in range(w):\n",
    "    for py in range(h):\n",
    "        seen = [[False for _ in range(w)] for _ in range(h)]\n",
    "        if xy[py][px] == 0: continue\n",
    "        ret = max(ret, dfs(px, py, seen))\n",
    "\n",
    "print(ret)"
   ]
  },
  {
   "cell_type": "markdown",
   "metadata": {},
   "source": [
    "## 幅優先探索"
   ]
  },
  {
   "cell_type": "markdown",
   "metadata": {},
   "source": [
    "### [28　ALDS_11_C - 幅優先探索](http://judge.u-aizu.ac.jp/onlinejudge/description.jsp?id=ALDS1_11_C&lang=ja)"
   ]
  },
  {
   "cell_type": "code",
   "execution_count": 18,
   "metadata": {},
   "outputs": [
    {
     "output_type": "stream",
     "name": "stdout",
     "text": "1 0\n2 1\n3 2\n4 1\n"
    }
   ],
   "source": [
    "cin = open(0).read().strip().split('\\n')\n",
    "n = int(cin[0])\n",
    "v = [list(map(lambda x: int(x)-1, a.split(' ')[2:])) for a in cin[1:]]\n",
    "\n",
    "import queue\n",
    "q = queue.Queue()\n",
    "q.put(0)\n",
    "\n",
    "dist = [-1]*n\n",
    "dist[0] = 0\n",
    "seen = [False]*n\n",
    "while not q.empty():\n",
    "    num = q.get()\n",
    "    seen[num] = True\n",
    "    for a in v[num]:\n",
    "        if dist[a] != -1: continue\n",
    "        dist[a] = dist[num] + 1\n",
    "        q.put(a)\n",
    "\n",
    "for idx, num in enumerate(dist):\n",
    "    print(idx+1, num)"
   ]
  },
  {
   "cell_type": "markdown",
   "metadata": {},
   "source": [
    "### [29　AtCoder Beginner Contest 007 C - 幅優先探索](https://atcoder.jp/contests/abc007/tasks/abc007_3)"
   ]
  },
  {
   "cell_type": "code",
   "execution_count": 26,
   "metadata": {},
   "outputs": [
    {
     "output_type": "stream",
     "name": "stdout",
     "text": "94\n"
    }
   ],
   "source": [
    "cin = open(0).read().strip().split('\\n')\n",
    "r,c = map(int, cin[0].split(' '))\n",
    "sy, sx = map(lambda x: int(x)-1, cin[1].split(' '))\n",
    "gy, gx = map(lambda x: int(x)-1, cin[2].split(' '))\n",
    "cs = [list(a) for a in cin[3:]]\n",
    "\n",
    "import queue\n",
    "q = queue.Queue()\n",
    "q.put((sy, sx))\n",
    "\n",
    "dx = [1, 0, -1, 0]\n",
    "dy = [0, -1, 0, 1]\n",
    "\n",
    "dist = [[-1 for _ in range(c)] for _ in range(r)]\n",
    "dist[sy][sx] = 0\n",
    "while not q.empty():\n",
    "    py, px = q.get()\n",
    "    cs[py][px] = '#'\n",
    "    for dxi, dyi in zip(dx, dy):\n",
    "        if dist[py+dyi][px+dxi] != -1: continue\n",
    "        if py+dyi<0 or py+dyi>=r: continue\n",
    "        if px+dxi<0 or px+dxi>=c: continue\n",
    "        if cs[py+dyi][px+dxi] == '#': continue\n",
    "        dist[py+dyi][px+dxi] = dist[py][px]+1\n",
    "        q.put((py+dyi, px+dxi))\n",
    "\n",
    "print(dist[gy][gx])"
   ]
  },
  {
   "cell_type": "code",
   "execution_count": null,
   "metadata": {},
   "outputs": [],
   "source": []
  }
 ],
 "metadata": {
  "language_info": {
   "name": "python",
   "codemirror_mode": {
    "name": "ipython",
    "version": 3
   },
   "version": "3.7.5-final"
  },
  "orig_nbformat": 2,
  "file_extension": ".py",
  "mimetype": "text/x-python",
  "name": "python",
  "npconvert_exporter": "python",
  "pygments_lexer": "ipython3",
  "version": 3,
  "kernelspec": {
   "name": "7c7b45ef-7160-4f04-9b63-b2648969339f",
   "display_name": "'Python Interactive'"
  }
 },
 "nbformat": 4,
 "nbformat_minor": 2
}