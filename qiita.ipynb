{
 "cells": [
  {
   "cell_type": "markdown",
   "metadata": {},
   "source": [
    "# qiitaの [レッドコーダーが教える、競プロ・AtCoder上達のガイドライン【中級編：目指せ水色コーダー！】](https://qiita.com/e869120/items/eb50fdaece12be418faa#2-3-%E5%88%86%E9%87%8E%E5%88%A5%E5%88%9D%E4%B8%AD%E7%B4%9A%E8%80%85%E3%81%8C%E8%A7%A3%E3%81%8F%E3%81%B9%E3%81%8D%E9%81%8E%E5%8E%BB%E5%95%8F%E7%B2%BE%E9%81%B8-100-%E5%95%8F) を解く\n",
    "2020/04/19~"
   ]
  },
  {
   "cell_type": "code",
   "execution_count": 1,
   "metadata": {},
   "outputs": [
    {
     "output_type": "display_data",
     "data": {
      "text/plain": "Textarea(value='')",
      "application/vnd.jupyter.widget-view+json": {
       "version_major": 2,
       "version_minor": 0,
       "model_id": "a095efe0a4a541b58856fcf5f0150596"
      }
     },
     "metadata": {}
    }
   ],
   "source": [
    "from ipywidgets import Textarea\n",
    "import io\n",
    "\n",
    "if 'open' in globals():\n",
    "    del open\n",
    "original_open = open\n",
    "\n",
    "class custom_open():\n",
    "    def __init__(self):\n",
    "        self.text = ''\n",
    "\n",
    "    def __call__(self, file, *args, **kwargs):\n",
    "        if file == 0:\n",
    "            return io.StringIO(self.text)\n",
    "        return original_open(file, *args, **kwargs)\n",
    "\n",
    "    def updater(self, change):\n",
    "        self.text = change[\"new\"]\n",
    "\n",
    "open = custom_open()\n",
    "text_area = Textarea()\n",
    "text_area.observe(open.updater, names='value')\n",
    "display(text_area)"
   ]
  },
  {
   "cell_type": "markdown",
   "metadata": {},
   "source": [
    "## 全探索：全列挙"
   ]
  },
  {
   "cell_type": "markdown",
   "metadata": {},
   "source": [
    "### [1　ITP1_7_B - How Many Ways?](http://judge.u-aizu.ac.jp/onlinejudge/description.jsp?id=ITP1_7_B&lang=ja)"
   ]
  },
  {
   "cell_type": "code",
   "execution_count": null,
   "metadata": {},
   "outputs": [],
   "source": [
    "import itertools\n",
    "\n",
    "while True:\n",
    "    n, x = map(int, input().split(' '))\n",
    "    if (n == 0) & (x == 0): break\n",
    "\n",
    "    ret = 0\n",
    "    for v in itertools.combinations(list(range(1, n + 1)), 3):\n",
    "        if sum(v) == x:\n",
    "            ret += 1\n",
    "\n",
    "    print(ret)"
   ]
  },
  {
   "cell_type": "markdown",
   "metadata": {},
   "source": [
    "### [2　AtCoder Beginner Contest 106 B - 105](https://atcoder.jp/contests/abc106/tasks/abc106_b)"
   ]
  },
  {
   "cell_type": "code",
   "execution_count": null,
   "metadata": {},
   "outputs": [],
   "source": [
    "n = int(input())\n",
    "\n",
    "def make_divisors(n):\n",
    "    divisors = []\n",
    "    for i in range(1, int(n**0.5)+1):\n",
    "        if n % i == 0:\n",
    "            divisors.append(i)\n",
    "            if i != n // i:\n",
    "                divisors.append(n//i)\n",
    "    return divisors\n",
    "\n",
    "ret = 0\n",
    "for ni in range(1, n+1):\n",
    "    if ni % 2 == 0 :continue\n",
    "    divisors = make_divisors(ni)\n",
    "    if len(divisors) == 8:\n",
    "        ret += 1\n",
    "\n",
    "print(ret)"
   ]
  },
  {
   "cell_type": "markdown",
   "metadata": {},
   "source": [
    "### [3　AtCoder Beginner Contest 122 B - ATCoder](https://atcoder.jp/contests/abc122/tasks/abc122_b)"
   ]
  },
  {
   "cell_type": "code",
   "execution_count": null,
   "metadata": {},
   "outputs": [],
   "source": [
    "s = input()\n",
    "\n",
    "compare = ['A', 'C', 'G', 'T']\n",
    "max_str = ''\n",
    "tmp = ''\n",
    "for si in s:\n",
    "    if si in compare:\n",
    "        tmp += si\n",
    "        if len(tmp) > len(max_str):\n",
    "            max_str = tmp\n",
    "    else:\n",
    "        tmp = ''\n",
    "\n",
    "print(len(max_str))"
   ]
  },
  {
   "cell_type": "markdown",
   "metadata": {},
   "source": [
    "### [4　パ研杯2019 C - カラオケ](https://atcoder.jp/contests/pakencamp-2019-day3/tasks/pakencamp_2019_day3_c)"
   ]
  },
  {
   "cell_type": "code",
   "execution_count": null,
   "metadata": {},
   "outputs": [],
   "source": [
    "import itertools\n",
    "\n",
    "n, m = map(int, input().split(' '))\n",
    "a = []\n",
    "for _ in range(n):\n",
    "    a.append(list(map(int, input().split(' '))))\n",
    "\n",
    "max_point = 0\n",
    "for m1, m2 in itertools.combinations(list(range(m)), 2):\n",
    "    tmp_point = 0\n",
    "    for ni in range(n):\n",
    "        tmp_point += max(a[ni][m1], a[ni][m2])\n",
    "    if max_point < tmp_point:\n",
    "        max_point = tmp_point\n",
    "\n",
    "print(max_point)"
   ]
  },
  {
   "cell_type": "markdown",
   "metadata": {},
   "source": [
    "## 全探索：工夫して通り数を減らす全列挙"
   ]
  },
  {
   "cell_type": "markdown",
   "metadata": {},
   "source": [
    "### [5　AtCoder Beginner Contest 095 C - Half and Half](https://atcoder.jp/contests/abc095/tasks/arc096_a)"
   ]
  },
  {
   "cell_type": "code",
   "execution_count": null,
   "metadata": {},
   "outputs": [],
   "source": [
    "a, b, c, x, y = map(int, input().split(' '))\n",
    "\n",
    "ans1 = c*max(x, y)*2\n",
    "\n",
    "tmp = min(x, y)\n",
    "ans2 = c*tmp*2 + a*max(x-tmp, 0) + b*max(y-tmp, 0)\n",
    "\n",
    "ans3 = a*x + b*y\n",
    "\n",
    "print(min(ans1, ans2, ans3))"
   ]
  },
  {
   "cell_type": "markdown",
   "metadata": {},
   "source": [
    "### [6　三井住友信託銀行プログラミングコンテスト 2019 D - Lucky PIN](https://atcoder.jp/contests/sumitrust2019/tasks/sumitb2019_d)"
   ]
  },
  {
   "cell_type": "code",
   "execution_count": null,
   "metadata": {
    "tags": [
     "outputPrepend"
    ]
   },
   "outputs": [],
   "source": [
    "n = int(input())\n",
    "s = input()\n",
    "\n",
    "import itertools\n",
    "\n",
    "# 想定される答えから探索する\n",
    "d = list()\n",
    "for d1, d2, d3 in itertools.product(range(10), range(10), range(10)):\n",
    "    d.append(str(d1) + str(d2) + str(d3))\n",
    "\n",
    "ret = 0\n",
    "for di in d:\n",
    "    ls = list(s)\n",
    "    try:\n",
    "        idx1 = ls.index(di[0])\n",
    "        idx2 = ls[idx1+1:].index(di[1])\n",
    "        idx3 = ls[idx1+1:][idx2+1:].index(di[2])\n",
    "        ret += 1\n",
    "    except:\n",
    "        continue\n",
    "\n",
    "print(ret)"
   ]
  },
  {
   "cell_type": "markdown",
   "metadata": {},
   "source": [
    "### [7　JOI 2007 本選 3 - 最古の遺跡](https://atcoder.jp/contests/joi2007ho/tasks/joi2007ho_c)"
   ]
  },
  {
   "cell_type": "code",
   "execution_count": null,
   "metadata": {
    "tags": [
     "outputPrepend"
    ]
   },
   "outputs": [],
   "source": [
    "cin = open(0).read().split('\\n')\n",
    "\n",
    "n = int(cin[0])\n",
    "pos = []\n",
    "for idx in range(n):\n",
    "    x, y = map(int, cin[idx+1].split(' '))\n",
    "    pos.append((x, y))\n",
    "\n",
    "pos = list(sorted(pos))\n",
    "pos_dict = set(pos)\n",
    "ret = 0\n",
    "for idx1 in range(n):\n",
    "    x1, y1 = pos[idx1]\n",
    "    for idx2 in range(idx1+1, n):\n",
    "        x2, y2 = pos[idx2]\n",
    "        vectorx, vectory = x2 - x1, y2 - y1\n",
    "        # & → andにしただけで1secくらい短くなった、、\n",
    "        # tupleは変数代入せずにinで比較した方が速い\n",
    "        if ((x2 - vectory, y2 + vectorx) in pos_dict) and ((x1 - vectory, y1 + vectorx) in pos_dict):\n",
    "            ret = max(ret, vectorx**2 + vectory**2)\n",
    "\n",
    "print(ret)"
   ]
  },
  {
   "cell_type": "markdown",
   "metadata": {},
   "source": [
    "### [8　Square869120Contest #6 B - AtCoder Markets](https://atcoder.jp/contests/s8pc-6/tasks/s8pc_6_b)"
   ]
  },
  {
   "cell_type": "code",
   "execution_count": null,
   "metadata": {},
   "outputs": [],
   "source": [
    "cin = open(0).read().split('\\n')\n",
    "\n",
    "n = int(cin[0])\n",
    "ab = []\n",
    "aa = []\n",
    "bb = []\n",
    "for idx in range(n):\n",
    "    a, b = map(int, cin[idx+1].split(' '))\n",
    "    aa.append(a)\n",
    "    bb.append(b)\n",
    "    ab.append((a, b))\n",
    "\n",
    "ret = []\n",
    "for aai in aa:\n",
    "    for bbi in bb:\n",
    "        tmp = 0\n",
    "        for ai, bi in ab:\n",
    "            tmp += (abs(aai-ai) + bi-ai + abs(bi-bbi))\n",
    "        ret.append(tmp)\n",
    "\n",
    "print(min(ret))"
   ]
  },
  {
   "cell_type": "markdown",
   "metadata": {},
   "source": [
    "### [9　JOI 2008 予選 4 - 星座探し](https://atcoder.jp/contests/joi2008yo/tasks/joi2008yo_d)"
   ]
  },
  {
   "cell_type": "code",
   "execution_count": null,
   "metadata": {},
   "outputs": [],
   "source": [
    "cin = open(0).read().split('\\n')\n",
    "\n",
    "m = int(cin[0])\n",
    "target = []\n",
    "for idx in range(m):\n",
    "    x, y = map(int, cin[idx+1].split(' '))\n",
    "    target.append((x, y))\n",
    "n = int(cin[len(target) + 1])\n",
    "stars = []\n",
    "for idx in range(n):\n",
    "    x, y = map(int, cin[idx+len(target)+2].split(' '))\n",
    "    stars.append((x, y))\n",
    "starts_set = set(stars)\n",
    "\n",
    "for star in stars:\n",
    "    for stdrd in target[1:]:\n",
    "        diff_x = stdrd[0] - target[0][0]\n",
    "        diff_y = stdrd[1] - target[0][1]\n",
    "        if (star[0] + diff_x, star[1] + diff_y) not in starts_set:\n",
    "            break\n",
    "    else:\n",
    "        print(star[0] - target[0][0], star[1] - target[0][1])"
   ]
  },
  {
   "cell_type": "markdown",
   "metadata": {},
   "source": [
    "## 全探索：ビット全探索"
   ]
  },
  {
   "cell_type": "markdown",
   "metadata": {},
   "source": [
    "### [10　ALDS_5_A - 総当たり](http://judge.u-aizu.ac.jp/onlinejudge/description.jsp?id=ALDS1_5_A&lang=ja)"
   ]
  },
  {
   "cell_type": "code",
   "execution_count": null,
   "metadata": {},
   "outputs": [],
   "source": [
    "cin = open(0).read().split('\\n')\n",
    "\n",
    "n = int(cin[0])\n",
    "a = list(map(int, cin[1].split(' ')))\n",
    "q = int(cin[2])\n",
    "m = list(map(int, cin[3].split(' ')))\n",
    "\n",
    "tmp = set()\n",
    "for i in range(2**n):\n",
    "    ret = 0\n",
    "    for j in range(n):\n",
    "        if (i>>j) & 1:\n",
    "            ret += a[j]\n",
    "    tmp.add(ret)\n",
    "\n",
    "for mi in m:\n",
    "    if mi in tmp:\n",
    "        print('yes')\n",
    "    else:\n",
    "        print('no')"
   ]
  },
  {
   "cell_type": "markdown",
   "metadata": {},
   "source": [
    "### [11　AtCoder Beginner Contest 128 C - Switches](https://atcoder.jp/contests/abc128/tasks/abc128_c)"
   ]
  },
  {
   "cell_type": "code",
   "execution_count": null,
   "metadata": {},
   "outputs": [],
   "source": [
    "cin = open(0).read().split('\\n')\n",
    "\n",
    "n, m = map(int, cin[0].split(' '))\n",
    "s = []\n",
    "for row in cin[1:1+m]:\n",
    "    s.append(list(map(int, row.split(' ')[1:])))\n",
    "p = list(map(int, cin[1+m].split(' ')))\n",
    "\n",
    "ret = 0\n",
    "for ai in range(2**n):\n",
    "    flg = True\n",
    "    for idx, si in enumerate(s):\n",
    "        on_cnt = 0\n",
    "        for sii in si:\n",
    "            if (ai >> (sii-1)) & 1:\n",
    "                on_cnt += 1\n",
    "        if on_cnt % 2 != p[idx]:\n",
    "            flg = False\n",
    "    if flg:\n",
    "        ret += 1\n",
    "\n",
    "print(ret)"
   ]
  },
  {
   "cell_type": "markdown",
   "metadata": {},
   "source": [
    "### [12　AtCoder Beginner Contest 002 D - 派閥](https://atcoder.jp/contests/abc002/tasks/abc002_4)"
   ]
  },
  {
   "cell_type": "code",
   "execution_count": null,
   "metadata": {},
   "outputs": [],
   "source": [
    "# ↓ファイルの最後に改行入ってるトラップ\n",
    "cin = open(0).read().strip().split('\\n')\n",
    "n, m = map(int, cin[0].split(' '))\n",
    "xy = {tuple(map(int, a.split(' '))): True for a in cin[1:]}\n",
    "\n",
    "def popcount(x):\n",
    "    x = x - ((x >> 1) & 0x5555555555555555)\n",
    "\n",
    "    x = (x & 0x3333333333333333) + ((x >> 2) & 0x3333333333333333)\n",
    "\n",
    "    x = (x + (x >> 4)) & 0x0f0f0f0f0f0f0f0f # 8bitごと\n",
    "    x = x + (x >> 8) # 16bitごと\n",
    "    x = x + (x >> 16) # 32bitごと\n",
    "    x = x + (x >> 32) # 64bitごと = 全部の合計\n",
    "    return x & 0x0000007f\n",
    "\n",
    "ret = 0\n",
    "for ni in range(2**n):\n",
    "    flg = True\n",
    "    for xi in range(n):\n",
    "        for yi in range(xi+1, n):\n",
    "            if ((ni >> xi) & 1) and ((ni >> yi) & 1):\n",
    "                if ((xi+1), (yi+1)) not in xy:\n",
    "                    flg = False\n",
    "    if flg:\n",
    "        ret = max(ret, popcount(ni))\n",
    "\n",
    "print(ret)"
   ]
  },
  {
   "cell_type": "markdown",
   "metadata": {},
   "source": [
    "### [13　JOI 2008 予選 5 - おせんべい](https://atcoder.jp/contests/joi2008yo/tasks/joi2008yo_e)"
   ]
  },
  {
   "cell_type": "code",
   "execution_count": null,
   "metadata": {
    "tags": [
     "outputPrepend",
     "outputPrepend",
     "outputPrepend",
     "outputPrepend",
     "outputPrepend",
     "outputPrepend",
     "outputPrepend",
     "outputPrepend",
     "outputPrepend",
     "outputPrepend",
     "outputPrepend",
     "outputPrepend",
     "outputPrepend",
     "outputPrepend",
     "outputPrepend",
     "outputPrepend",
     "outputPrepend",
     "outputPrepend",
     "outputPrepend",
     "outputPrepend",
     "outputPrepend",
     "outputPrepend",
     "outputPrepend",
     "outputPrepend",
     "outputPrepend",
     "outputPrepend",
     "outputPrepend",
     "outputPrepend",
     "outputPrepend",
     "outputPrepend",
     "outputPrepend",
     "outputPrepend",
     "outputPrepend",
     "outputPrepend"
    ]
   },
   "outputs": [],
   "source": [
    "# 最後のテストケースだけ終わらんかった、、\n",
    "cin = open(0).read().strip().split('\\n')\n",
    "r, c = map(int, cin[0].split(' '))\n",
    "senbei = []\n",
    "for col in cin[1:]:\n",
    "    senbei.append(list(map(int, col.split(' '))))\n",
    "\n",
    "def inverse_col(ndarr):\n",
    "    tmp = [list(x) for x in zip(*ndarr)]\n",
    "    return sum([min(sum(tmp[ci]), r-sum(tmp[ci])) for ci in range(c)])\n",
    "\n",
    "comp = [1] * c\n",
    "ret = 0\n",
    "# 行ごとに処理するorしないをビット全探索する\n",
    "for i in range(2**r):\n",
    "    tmp_senbei = senbei.copy()\n",
    "    for j in range(r):\n",
    "        if (i >> j) & 1:\n",
    "            tmp_senbei[j] = [a - b for a, b in zip(comp, senbei[j])]\n",
    "    if ret == 0:\n",
    "        ret = inverse_col(tmp_senbei)\n",
    "    else:\n",
    "        ret = min(ret, inverse_col(tmp_senbei))\n",
    "\n",
    "print(r*c - ret)"
   ]
  },
  {
   "cell_type": "markdown",
   "metadata": {},
   "source": [
    "### [14　Square869120Contest #4 B - Buildings are Colorful!](https://atcoder.jp/contests/s8pc-4/tasks/s8pc_4_b)"
   ]
  },
  {
   "cell_type": "code",
   "execution_count": null,
   "metadata": {},
   "outputs": [],
   "source": [
    "cin = open(0).read().strip().split('\\n')\n",
    "n, k = map(int, cin[0].split(' '))\n",
    "a = list(map(int, cin[1].split(' ')))\n",
    "\n",
    "ret = float('inf')\n",
    "for idx in range(2**n):\n",
    "    colors = 0\n",
    "    res = 0\n",
    "    left = 0\n",
    "    for i in range(n):\n",
    "        if (idx>>i) & 1:\n",
    "            colors += 1\n",
    "            res += max(left+1 - a[i] , 0)\n",
    "            left = max(a[i], left+1)\n",
    "        else:\n",
    "            colors += 1 if left < a[i] else 0\n",
    "            left = max(left, a[i])\n",
    "\n",
    "    if colors >= k:\n",
    "        ret = min(ret, res)\n",
    "\n",
    "print(ret)"
   ]
  },
  {
   "cell_type": "markdown",
   "metadata": {},
   "source": [
    "## 全探索：順列全探索"
   ]
  },
  {
   "cell_type": "markdown",
   "metadata": {},
   "source": [
    "### [15　AtCoder Beginner Contest 145 C - Average Length](https://atcoder.jp/contests/abc145/tasks/abc145_c)"
   ]
  },
  {
   "cell_type": "code",
   "execution_count": null,
   "metadata": {},
   "outputs": [],
   "source": [
    "cin = open(0).read().strip().split('\\n')\n",
    "n = int(cin[0])\n",
    "xy = [tuple(map(int, a.split(' '))) for a in cin[1:]]\n",
    "\n",
    "import itertools, math\n",
    "\n",
    "ret = 0\n",
    "case = 0\n",
    "for cases in itertools.permutations(xy):\n",
    "    case += 1\n",
    "    for idx in range(n-1):\n",
    "        ret += math.sqrt((cases[idx][0]-cases[idx+1][0])**2 + (cases[idx][1]-cases[idx+1][1])**2)\n",
    "\n",
    "print(ret/case)"
   ]
  },
  {
   "cell_type": "markdown",
   "metadata": {},
   "source": [
    "### [16　AtCoder Beginner Contest 150 C - Count Order](https://atcoder.jp/contests/abc150/tasks/abc150_c)"
   ]
  },
  {
   "cell_type": "code",
   "execution_count": null,
   "metadata": {},
   "outputs": [],
   "source": [
    "cin = open(0).read().strip().split('\\n')\n",
    "n = int(cin[0])\n",
    "p = list(map(int, cin[1].split(' ')))\n",
    "q = list(map(int, cin[2].split(' ')))\n",
    "\n",
    "import itertools\n",
    "\n",
    "a = 0\n",
    "b = 0\n",
    "for idx, case in enumerate(itertools.permutations(range(1, n+1))):\n",
    "    if case == tuple(p):\n",
    "        a = idx+1\n",
    "    if case == tuple(q):\n",
    "        b = idx+1\n",
    "\n",
    "print(abs(a-b))"
   ]
  },
  {
   "cell_type": "markdown",
   "metadata": {},
   "source": [
    "### [17　ALDS_13_A - 8 クイーン問題](http://judge.u-aizu.ac.jp/onlinejudge/description.jsp?id=ALDS1_13_A&lang=ja)"
   ]
  },
  {
   "cell_type": "code",
   "execution_count": 209,
   "metadata": {
    "tags": [
     "outputPrepend",
     "outputPrepend",
     "outputPrepend",
     "outputPrepend",
     "outputPrepend",
     "outputPrepend",
     "outputPrepend",
     "outputPrepend",
     "outputPrepend",
     "outputPrepend"
    ]
   },
   "outputs": [
    {
     "output_type": "stream",
     "name": "stdout",
     "text": ".......Q\n.Q......\n....Q...\n..Q.....\nQ.......\n......Q.\n...Q....\n.....Q..\n"
    }
   ],
   "source": [
    "cin = open(0).read().strip().split('\\n')\n",
    "k = int(cin[0])\n",
    "init_q = [tuple(map(int, a.split(' '))) for a in cin[1:]]\n",
    "\n",
    "import itertools, copy\n",
    "\n",
    "# ↓これは[0]のlistオブジェクトの同じIDを持つ要素を使い回すので、init_b[0][1] = 1したときにバグる\n",
    "# init_b = [[0] * 8] * 8\n",
    "init_b = [[0 for _ in range(8)] for _ in range(8)]\n",
    "for q in init_q:\n",
    "    init_b[q[0]][q[1]] = 1\n",
    "\n",
    "def culc_diag(list2d, k=0, r2l=False):\n",
    "    \"\"\"\n",
    "    対角成分の和を算出する（正方行列のみ）\n",
    "    numpyが使えない環境での使用を想定\n",
    "    k: np.diag()のkと同じ意味、スタートの位置を決める\n",
    "    r2l: 右上→左下方向かどうか\n",
    "    \"\"\"\n",
    "    n = len(list2d)\n",
    "\n",
    "    if r2l:\n",
    "        if k > 0:\n",
    "            return sum(list2d[i][n-1-k-i] for i in range(n-k))\n",
    "        else:\n",
    "            return sum(list2d[i-k][n-1-i] for i in range(n+k))\n",
    "    else:\n",
    "        if k > 0:\n",
    "            return sum(list2d[i][i+k] for i in range(n-k))\n",
    "        else:\n",
    "            return sum(list2d[i-k][i] for i in range(n+k))\n",
    "\n",
    "\n",
    "for cases in itertools.permutations(range(8)):\n",
    "    b = copy.deepcopy(init_b)\n",
    "    for idx, c in enumerate(cases):\n",
    "        if 1 != sum(b[idx]):\n",
    "            b[idx][c] = 1\n",
    "\n",
    "    if all([sum(a) for a in b]):\n",
    "        t_b = [list(x) for x in zip(*b)]\n",
    "        if all([sum(a) for a in t_b]):\n",
    "            flg = True\n",
    "            for i in range(8):\n",
    "                if (culc_diag(b, k=i, r2l=False) > 1) or (culc_diag(b, k=i, r2l=True) > 1) or (culc_diag(b, k=-1*i, r2l=False) > 1) or (culc_diag(b, k=-1*i, r2l=True) > 1):\n",
    "                    flg = False\n",
    "            if flg:\n",
    "                for row in b:\n",
    "                    new_b = []\n",
    "                    for ad in row:\n",
    "                        new_b.append('.' if ad == 0 else 'Q')\n",
    "                    print(''.join(new_b))\n",
    "                break"
   ]
  },
  {
   "cell_type": "markdown",
   "metadata": {},
   "source": [
    "## 二分探索"
   ]
  },
  {
   "cell_type": "markdown",
   "metadata": {},
   "source": [
    "### [18　ALDS_4_B - 二分探索](http://judge.u-aizu.ac.jp/onlinejudge/description.jsp?id=ALDS1_4_B&lang=ja)"
   ]
  },
  {
   "cell_type": "code",
   "execution_count": 217,
   "metadata": {},
   "outputs": [
    {
     "output_type": "stream",
     "name": "stdout",
     "text": "3\n"
    }
   ],
   "source": [
    "cin = open(0).read().strip().split('\\n')\n",
    "n = int(cin[0])\n",
    "s = list(map(int, cin[1].split(' ')))\n",
    "q = int(cin[2])\n",
    "t = list(map(int, cin[3].split(' ')))\n",
    "\n",
    "def binary_search(arr, item):\n",
    "    low = 0\n",
    "    high = len(arr) - 1\n",
    "    while low <= high:\n",
    "        mid = (low + high) // 2\n",
    "        guess = arr[mid]\n",
    "        if guess == item:\n",
    "            return mid\n",
    "        if guess > item:\n",
    "            high = mid - 1\n",
    "        else:\n",
    "            low = mid + 1\n",
    "\n",
    "    return None\n",
    "\n",
    "ret = 0\n",
    "for i in t:\n",
    "    if binary_search(s, i) is not None:\n",
    "        ret += 1\n",
    "\n",
    "print(ret)"
   ]
  },
  {
   "cell_type": "markdown",
   "metadata": {},
   "source": [
    "### [19　JOI 2009 本選 2 - ピザ](https://atcoder.jp/contests/joi2009ho/tasks/joi2009ho_b)"
   ]
  },
  {
   "cell_type": "code",
   "execution_count": 266,
   "metadata": {},
   "outputs": [
    {
     "output_type": "stream",
     "name": "stdout",
     "text": "3\n"
    }
   ],
   "source": [
    "cin = open(0).read().strip().split('\\n')\n",
    "d = int(cin[0])\n",
    "n = int(cin[1])\n",
    "m = int(cin[2])\n",
    "ds = [int(a) for a in cin[3:n+2]]\n",
    "ds = sorted([0] + ds + [d])\n",
    "ms = [int(a) for a in cin[-1*m:]]\n",
    "\n",
    "def binary_search(arr, item):\n",
    "    \"\"\"\n",
    "    arr: 昇順にソート済list\n",
    "    \"\"\"\n",
    "    low = 0\n",
    "    high = len(arr) - 1\n",
    "    while low <= high:\n",
    "        mid = (low + high) // 2\n",
    "        guess = arr[mid]\n",
    "        if guess > item:\n",
    "            high = mid - 1\n",
    "        else:\n",
    "            low = mid + 1\n",
    "\n",
    "    return min(abs(arr[low]-item), abs(arr[low-1]-item))\n",
    "\n",
    "ret = 0\n",
    "for i in ms:\n",
    "    ret += binary_search(ds, i)\n",
    "\n",
    "print(ret)"
   ]
  },
  {
   "cell_type": "markdown",
   "metadata": {},
   "source": [
    "### [20　AtCoder Beginner Contest 077 C - Snuke Festival](https://atcoder.jp/contests/abc077/tasks/arc084_a)"
   ]
  },
  {
   "cell_type": "code",
   "execution_count": 43,
   "metadata": {},
   "outputs": [
    {
     "output_type": "stream",
     "name": "stdout",
     "text": "87\n"
    }
   ],
   "source": [
    "cin = open(0).read().strip().split('\\n')\n",
    "n = int(cin[0])\n",
    "a = list(map(int, cin[1].split(' ')))\n",
    "b = list(map(int, cin[2].split(' ')))\n",
    "c = list(map(int, cin[3].split(' ')))\n",
    "\n",
    "a = sorted(a)\n",
    "b = sorted(b)\n",
    "c = sorted(c)\n",
    "\n",
    "from bisect import bisect_left, bisect\n",
    "\n",
    "# 真ん中のbを起点に考える、発想の転換\n",
    "# bisectライブラリ便利や\n",
    "print(sum([bisect_left(a, bi)*(n-bisect(c, bi)) for bi in b]))"
   ]
  },
  {
   "cell_type": "markdown",
   "metadata": {},
   "source": [
    "### [21　AtCoder Beginner Contest 023 D - 射撃王](https://atcoder.jp/contests/abc023/tasks/abc023_d)"
   ]
  },
  {
   "cell_type": "code",
   "execution_count": 49,
   "metadata": {},
   "outputs": [
    {
     "output_type": "stream",
     "name": "stdout",
     "text": "105 104\n"
    }
   ],
   "source": [
    "cin = open(0).read().strip().split('\\n')\n",
    "n = int(cin[0])\n",
    "hs = [tuple(map(int, a.split(' '))) for a in cin[1:]]\n",
    "\n",
    "def f(p):\n",
    "    tmp = [(p-hs[i][0])/hs[i][1] for i in range(n)]\n",
    "    tmp = sorted(tmp)\n",
    "    for i, a in enumerate(tmp):\n",
    "        if a < i:\n",
    "            return False\n",
    "    return True\n",
    "\n",
    "# 想定される全ての答えから二分探索で探す\n",
    "left = 0\n",
    "right = 10**14\n",
    "while right - left > 1:\n",
    "    mid = (left + right)//2\n",
    "    if f(mid):\n",
    "        # いつもrightが条件を満たす\n",
    "        right = mid\n",
    "    else:\n",
    "        left = mid\n",
    "\n",
    "# ↓いつもrightが条件を満たすので\n",
    "print(right)"
   ]
  },
  {
   "cell_type": "markdown",
   "metadata": {},
   "source": [
    "### [22　AtCoder Regular Contest 054 B - ムーアの法則](https://atcoder.jp/contests/arc054/tasks/arc054_b)"
   ]
  },
  {
   "cell_type": "code",
   "execution_count": 33,
   "metadata": {},
   "outputs": [
    {
     "output_type": "stream",
     "name": "stdout",
     "text": "5e+17\n"
    },
    {
     "output_type": "error",
     "ename": "OverflowError",
     "evalue": "(34, 'Result too large')",
     "traceback": [
      "\u001b[0;31m---------------------------------------------------------------------------\u001b[0m",
      "\u001b[0;31mOverflowError\u001b[0m                             Traceback (most recent call last)",
      "\u001b[0;32m<ipython-input-33-7bbcf93169ee>\u001b[0m in \u001b[0;36m<module>\u001b[0;34m\u001b[0m\n\u001b[1;32m     15\u001b[0m     \u001b[0mmid\u001b[0m \u001b[0;34m=\u001b[0m \u001b[0;34m(\u001b[0m\u001b[0mleft\u001b[0m \u001b[0;34m+\u001b[0m \u001b[0mright\u001b[0m\u001b[0;34m)\u001b[0m\u001b[0;34m/\u001b[0m\u001b[0;36m2\u001b[0m\u001b[0;34m\u001b[0m\u001b[0;34m\u001b[0m\u001b[0m\n\u001b[1;32m     16\u001b[0m     \u001b[0mprint\u001b[0m\u001b[0;34m(\u001b[0m\u001b[0mmid\u001b[0m\u001b[0;34m)\u001b[0m\u001b[0;34m\u001b[0m\u001b[0;34m\u001b[0m\u001b[0m\n\u001b[0;32m---> 17\u001b[0;31m     \u001b[0mtmp\u001b[0m \u001b[0;34m=\u001b[0m \u001b[0mmid\u001b[0m\u001b[0;34m+\u001b[0m\u001b[0mp\u001b[0m\u001b[0;34m/\u001b[0m\u001b[0;34m(\u001b[0m\u001b[0;36m2\u001b[0m\u001b[0;34m**\u001b[0m\u001b[0;34m(\u001b[0m\u001b[0mmid\u001b[0m\u001b[0;34m/\u001b[0m\u001b[0;36m1.5\u001b[0m\u001b[0;34m)\u001b[0m\u001b[0;34m)\u001b[0m\u001b[0;34m\u001b[0m\u001b[0;34m\u001b[0m\u001b[0m\n\u001b[0m\u001b[1;32m     18\u001b[0m     \u001b[0;32mif\u001b[0m \u001b[0mret\u001b[0m \u001b[0;34m>\u001b[0m \u001b[0mtmp\u001b[0m\u001b[0;34m:\u001b[0m\u001b[0;34m\u001b[0m\u001b[0;34m\u001b[0m\u001b[0m\n\u001b[1;32m     19\u001b[0m         \u001b[0mright\u001b[0m \u001b[0;34m=\u001b[0m \u001b[0mmid\u001b[0m\u001b[0;34m\u001b[0m\u001b[0;34m\u001b[0m\u001b[0m\n",
      "\u001b[0;31mOverflowError\u001b[0m: (34, 'Result too large')"
     ]
    }
   ],
   "source": [
    "p = float(input())\n",
    "\n",
    "from scipy import integrate\n",
    "\n",
    "def check(x):\n",
    "    if x >= p:\n",
    "        return True\n",
    "    ret = integrate.quad(lambda x: 2**(x/1.5), 0, x)\n",
    "    return ret[0] >= p\n",
    "\n",
    "left = 0\n",
    "right = 10**18\n",
    "ret = right\n",
    "while right - left > 10**(-9):\n",
    "    mid = (left + right)/2\n",
    "    print(mid)\n",
    "    tmp = mid+p/(2**(mid/1.5))\n",
    "    if ret > tmp:\n",
    "        right = mid\n",
    "    else:\n",
    "        left = mid\n",
    "    ret = tmp\n",
    "\n",
    "print(right)"
   ]
  },
  {
   "cell_type": "code",
   "execution_count": 31,
   "metadata": {},
   "outputs": [
    {
     "output_type": "display_data",
     "data": {
      "text/plain": "<Figure size 432x288 with 1 Axes>",
      "image/svg+xml": "<?xml version=\"1.0\" encoding=\"utf-8\" standalone=\"no\"?>\n<!DOCTYPE svg PUBLIC \"-//W3C//DTD SVG 1.1//EN\"\n  \"http://www.w3.org/Graphics/SVG/1.1/DTD/svg11.dtd\">\n<!-- Created with matplotlib (https://matplotlib.org/) -->\n<svg height=\"271.794688pt\" version=\"1.1\" viewBox=\"0 0 372.103125 271.794688\" width=\"372.103125pt\" xmlns=\"http://www.w3.org/2000/svg\" xmlns:xlink=\"http://www.w3.org/1999/xlink\">\n <defs>\n  <style type=\"text/css\">\n*{stroke-linecap:butt;stroke-linejoin:round;}\n  </style>\n </defs>\n <g id=\"figure_1\">\n  <g id=\"patch_1\">\n   <path d=\"M 0 271.794688 \nL 372.103125 271.794688 \nL 372.103125 0 \nL 0 0 \nz\n\" style=\"fill:none;\"/>\n  </g>\n  <g id=\"axes_1\">\n   <g id=\"patch_2\">\n    <path d=\"M 30.103125 235.238438 \nL 364.903125 235.238438 \nL 364.903125 17.798438 \nL 30.103125 17.798438 \nz\n\" style=\"fill:#ffffff;\"/>\n   </g>\n   <g id=\"matplotlib.axis_1\">\n    <g id=\"xtick_1\">\n     <g id=\"line2d_1\">\n      <defs>\n       <path d=\"M 0 0 \nL 0 3.5 \n\" id=\"mc852e15b37\" style=\"stroke:#000000;stroke-width:0.8;\"/>\n      </defs>\n      <g>\n       <use style=\"stroke:#000000;stroke-width:0.8;\" x=\"45.321307\" xlink:href=\"#mc852e15b37\" y=\"235.238438\"/>\n      </g>\n     </g>\n     <g id=\"text_1\">\n      <!-- 0.0 -->\n      <defs>\n       <path d=\"M 31.78125 66.40625 \nQ 24.171875 66.40625 20.328125 58.90625 \nQ 16.5 51.421875 16.5 36.375 \nQ 16.5 21.390625 20.328125 13.890625 \nQ 24.171875 6.390625 31.78125 6.390625 \nQ 39.453125 6.390625 43.28125 13.890625 \nQ 47.125 21.390625 47.125 36.375 \nQ 47.125 51.421875 43.28125 58.90625 \nQ 39.453125 66.40625 31.78125 66.40625 \nz\nM 31.78125 74.21875 \nQ 44.046875 74.21875 50.515625 64.515625 \nQ 56.984375 54.828125 56.984375 36.375 \nQ 56.984375 17.96875 50.515625 8.265625 \nQ 44.046875 -1.421875 31.78125 -1.421875 \nQ 19.53125 -1.421875 13.0625 8.265625 \nQ 6.59375 17.96875 6.59375 36.375 \nQ 6.59375 54.828125 13.0625 64.515625 \nQ 19.53125 74.21875 31.78125 74.21875 \nz\n\" id=\"DejaVuSans-48\"/>\n       <path d=\"M 10.6875 12.40625 \nL 21 12.40625 \nL 21 0 \nL 10.6875 0 \nz\n\" id=\"DejaVuSans-46\"/>\n      </defs>\n      <g transform=\"translate(37.369744 249.836875)scale(0.1 -0.1)\">\n       <use xlink:href=\"#DejaVuSans-48\"/>\n       <use x=\"63.623047\" xlink:href=\"#DejaVuSans-46\"/>\n       <use x=\"95.410156\" xlink:href=\"#DejaVuSans-48\"/>\n      </g>\n     </g>\n    </g>\n    <g id=\"xtick_2\">\n     <g id=\"line2d_2\">\n      <g>\n       <use style=\"stroke:#000000;stroke-width:0.8;\" x=\"106.194034\" xlink:href=\"#mc852e15b37\" y=\"235.238438\"/>\n      </g>\n     </g>\n     <g id=\"text_2\">\n      <!-- 0.2 -->\n      <defs>\n       <path d=\"M 19.1875 8.296875 \nL 53.609375 8.296875 \nL 53.609375 0 \nL 7.328125 0 \nL 7.328125 8.296875 \nQ 12.9375 14.109375 22.625 23.890625 \nQ 32.328125 33.6875 34.8125 36.53125 \nQ 39.546875 41.84375 41.421875 45.53125 \nQ 43.3125 49.21875 43.3125 52.78125 \nQ 43.3125 58.59375 39.234375 62.25 \nQ 35.15625 65.921875 28.609375 65.921875 \nQ 23.96875 65.921875 18.8125 64.3125 \nQ 13.671875 62.703125 7.8125 59.421875 \nL 7.8125 69.390625 \nQ 13.765625 71.78125 18.9375 73 \nQ 24.125 74.21875 28.421875 74.21875 \nQ 39.75 74.21875 46.484375 68.546875 \nQ 53.21875 62.890625 53.21875 53.421875 \nQ 53.21875 48.921875 51.53125 44.890625 \nQ 49.859375 40.875 45.40625 35.40625 \nQ 44.1875 33.984375 37.640625 27.21875 \nQ 31.109375 20.453125 19.1875 8.296875 \nz\n\" id=\"DejaVuSans-50\"/>\n      </defs>\n      <g transform=\"translate(98.242472 249.836875)scale(0.1 -0.1)\">\n       <use xlink:href=\"#DejaVuSans-48\"/>\n       <use x=\"63.623047\" xlink:href=\"#DejaVuSans-46\"/>\n       <use x=\"95.410156\" xlink:href=\"#DejaVuSans-50\"/>\n      </g>\n     </g>\n    </g>\n    <g id=\"xtick_3\">\n     <g id=\"line2d_3\">\n      <g>\n       <use style=\"stroke:#000000;stroke-width:0.8;\" x=\"167.066761\" xlink:href=\"#mc852e15b37\" y=\"235.238438\"/>\n      </g>\n     </g>\n     <g id=\"text_3\">\n      <!-- 0.4 -->\n      <defs>\n       <path d=\"M 37.796875 64.3125 \nL 12.890625 25.390625 \nL 37.796875 25.390625 \nz\nM 35.203125 72.90625 \nL 47.609375 72.90625 \nL 47.609375 25.390625 \nL 58.015625 25.390625 \nL 58.015625 17.1875 \nL 47.609375 17.1875 \nL 47.609375 0 \nL 37.796875 0 \nL 37.796875 17.1875 \nL 4.890625 17.1875 \nL 4.890625 26.703125 \nz\n\" id=\"DejaVuSans-52\"/>\n      </defs>\n      <g transform=\"translate(159.115199 249.836875)scale(0.1 -0.1)\">\n       <use xlink:href=\"#DejaVuSans-48\"/>\n       <use x=\"63.623047\" xlink:href=\"#DejaVuSans-46\"/>\n       <use x=\"95.410156\" xlink:href=\"#DejaVuSans-52\"/>\n      </g>\n     </g>\n    </g>\n    <g id=\"xtick_4\">\n     <g id=\"line2d_4\">\n      <g>\n       <use style=\"stroke:#000000;stroke-width:0.8;\" x=\"227.939489\" xlink:href=\"#mc852e15b37\" y=\"235.238438\"/>\n      </g>\n     </g>\n     <g id=\"text_4\">\n      <!-- 0.6 -->\n      <defs>\n       <path d=\"M 33.015625 40.375 \nQ 26.375 40.375 22.484375 35.828125 \nQ 18.609375 31.296875 18.609375 23.390625 \nQ 18.609375 15.53125 22.484375 10.953125 \nQ 26.375 6.390625 33.015625 6.390625 \nQ 39.65625 6.390625 43.53125 10.953125 \nQ 47.40625 15.53125 47.40625 23.390625 \nQ 47.40625 31.296875 43.53125 35.828125 \nQ 39.65625 40.375 33.015625 40.375 \nz\nM 52.59375 71.296875 \nL 52.59375 62.3125 \nQ 48.875 64.0625 45.09375 64.984375 \nQ 41.3125 65.921875 37.59375 65.921875 \nQ 27.828125 65.921875 22.671875 59.328125 \nQ 17.53125 52.734375 16.796875 39.40625 \nQ 19.671875 43.65625 24.015625 45.921875 \nQ 28.375 48.1875 33.59375 48.1875 \nQ 44.578125 48.1875 50.953125 41.515625 \nQ 57.328125 34.859375 57.328125 23.390625 \nQ 57.328125 12.15625 50.6875 5.359375 \nQ 44.046875 -1.421875 33.015625 -1.421875 \nQ 20.359375 -1.421875 13.671875 8.265625 \nQ 6.984375 17.96875 6.984375 36.375 \nQ 6.984375 53.65625 15.1875 63.9375 \nQ 23.390625 74.21875 37.203125 74.21875 \nQ 40.921875 74.21875 44.703125 73.484375 \nQ 48.484375 72.75 52.59375 71.296875 \nz\n\" id=\"DejaVuSans-54\"/>\n      </defs>\n      <g transform=\"translate(219.987926 249.836875)scale(0.1 -0.1)\">\n       <use xlink:href=\"#DejaVuSans-48\"/>\n       <use x=\"63.623047\" xlink:href=\"#DejaVuSans-46\"/>\n       <use x=\"95.410156\" xlink:href=\"#DejaVuSans-54\"/>\n      </g>\n     </g>\n    </g>\n    <g id=\"xtick_5\">\n     <g id=\"line2d_5\">\n      <g>\n       <use style=\"stroke:#000000;stroke-width:0.8;\" x=\"288.812216\" xlink:href=\"#mc852e15b37\" y=\"235.238438\"/>\n      </g>\n     </g>\n     <g id=\"text_5\">\n      <!-- 0.8 -->\n      <defs>\n       <path d=\"M 31.78125 34.625 \nQ 24.75 34.625 20.71875 30.859375 \nQ 16.703125 27.09375 16.703125 20.515625 \nQ 16.703125 13.921875 20.71875 10.15625 \nQ 24.75 6.390625 31.78125 6.390625 \nQ 38.8125 6.390625 42.859375 10.171875 \nQ 46.921875 13.96875 46.921875 20.515625 \nQ 46.921875 27.09375 42.890625 30.859375 \nQ 38.875 34.625 31.78125 34.625 \nz\nM 21.921875 38.8125 \nQ 15.578125 40.375 12.03125 44.71875 \nQ 8.5 49.078125 8.5 55.328125 \nQ 8.5 64.0625 14.71875 69.140625 \nQ 20.953125 74.21875 31.78125 74.21875 \nQ 42.671875 74.21875 48.875 69.140625 \nQ 55.078125 64.0625 55.078125 55.328125 \nQ 55.078125 49.078125 51.53125 44.71875 \nQ 48 40.375 41.703125 38.8125 \nQ 48.828125 37.15625 52.796875 32.3125 \nQ 56.78125 27.484375 56.78125 20.515625 \nQ 56.78125 9.90625 50.3125 4.234375 \nQ 43.84375 -1.421875 31.78125 -1.421875 \nQ 19.734375 -1.421875 13.25 4.234375 \nQ 6.78125 9.90625 6.78125 20.515625 \nQ 6.78125 27.484375 10.78125 32.3125 \nQ 14.796875 37.15625 21.921875 38.8125 \nz\nM 18.3125 54.390625 \nQ 18.3125 48.734375 21.84375 45.5625 \nQ 25.390625 42.390625 31.78125 42.390625 \nQ 38.140625 42.390625 41.71875 45.5625 \nQ 45.3125 48.734375 45.3125 54.390625 \nQ 45.3125 60.0625 41.71875 63.234375 \nQ 38.140625 66.40625 31.78125 66.40625 \nQ 25.390625 66.40625 21.84375 63.234375 \nQ 18.3125 60.0625 18.3125 54.390625 \nz\n\" id=\"DejaVuSans-56\"/>\n      </defs>\n      <g transform=\"translate(280.860653 249.836875)scale(0.1 -0.1)\">\n       <use xlink:href=\"#DejaVuSans-48\"/>\n       <use x=\"63.623047\" xlink:href=\"#DejaVuSans-46\"/>\n       <use x=\"95.410156\" xlink:href=\"#DejaVuSans-56\"/>\n      </g>\n     </g>\n    </g>\n    <g id=\"xtick_6\">\n     <g id=\"line2d_6\">\n      <g>\n       <use style=\"stroke:#000000;stroke-width:0.8;\" x=\"349.684943\" xlink:href=\"#mc852e15b37\" y=\"235.238438\"/>\n      </g>\n     </g>\n     <g id=\"text_6\">\n      <!-- 1.0 -->\n      <defs>\n       <path d=\"M 12.40625 8.296875 \nL 28.515625 8.296875 \nL 28.515625 63.921875 \nL 10.984375 60.40625 \nL 10.984375 69.390625 \nL 28.421875 72.90625 \nL 38.28125 72.90625 \nL 38.28125 8.296875 \nL 54.390625 8.296875 \nL 54.390625 0 \nL 12.40625 0 \nz\n\" id=\"DejaVuSans-49\"/>\n      </defs>\n      <g transform=\"translate(341.733381 249.836875)scale(0.1 -0.1)\">\n       <use xlink:href=\"#DejaVuSans-49\"/>\n       <use x=\"63.623047\" xlink:href=\"#DejaVuSans-46\"/>\n       <use x=\"95.410156\" xlink:href=\"#DejaVuSans-48\"/>\n      </g>\n     </g>\n    </g>\n    <g id=\"text_7\">\n     <!-- 1e18 -->\n     <defs>\n      <path d=\"M 56.203125 29.59375 \nL 56.203125 25.203125 \nL 14.890625 25.203125 \nQ 15.484375 15.921875 20.484375 11.0625 \nQ 25.484375 6.203125 34.421875 6.203125 \nQ 39.59375 6.203125 44.453125 7.46875 \nQ 49.3125 8.734375 54.109375 11.28125 \nL 54.109375 2.78125 \nQ 49.265625 0.734375 44.1875 -0.34375 \nQ 39.109375 -1.421875 33.890625 -1.421875 \nQ 20.796875 -1.421875 13.15625 6.1875 \nQ 5.515625 13.8125 5.515625 26.8125 \nQ 5.515625 40.234375 12.765625 48.109375 \nQ 20.015625 56 32.328125 56 \nQ 43.359375 56 49.78125 48.890625 \nQ 56.203125 41.796875 56.203125 29.59375 \nz\nM 47.21875 32.234375 \nQ 47.125 39.59375 43.09375 43.984375 \nQ 39.0625 48.390625 32.421875 48.390625 \nQ 24.90625 48.390625 20.390625 44.140625 \nQ 15.875 39.890625 15.1875 32.171875 \nz\n\" id=\"DejaVuSans-101\"/>\n     </defs>\n     <g transform=\"translate(339.6625 262.515)scale(0.1 -0.1)\">\n      <use xlink:href=\"#DejaVuSans-49\"/>\n      <use x=\"63.623047\" xlink:href=\"#DejaVuSans-101\"/>\n      <use x=\"125.146484\" xlink:href=\"#DejaVuSans-49\"/>\n      <use x=\"188.769531\" xlink:href=\"#DejaVuSans-56\"/>\n     </g>\n    </g>\n   </g>\n   <g id=\"matplotlib.axis_2\">\n    <g id=\"ytick_1\">\n     <g id=\"line2d_7\">\n      <defs>\n       <path d=\"M 0 0 \nL -3.5 0 \n\" id=\"m277cc869d8\" style=\"stroke:#000000;stroke-width:0.8;\"/>\n      </defs>\n      <g>\n       <use style=\"stroke:#000000;stroke-width:0.8;\" x=\"30.103125\" xlink:href=\"#m277cc869d8\" y=\"225.354801\"/>\n      </g>\n     </g>\n     <g id=\"text_8\">\n      <!-- 0.0 -->\n      <g transform=\"translate(7.2 229.15402)scale(0.1 -0.1)\">\n       <use xlink:href=\"#DejaVuSans-48\"/>\n       <use x=\"63.623047\" xlink:href=\"#DejaVuSans-46\"/>\n       <use x=\"95.410156\" xlink:href=\"#DejaVuSans-48\"/>\n      </g>\n     </g>\n    </g>\n    <g id=\"ytick_2\">\n     <g id=\"line2d_8\">\n      <g>\n       <use style=\"stroke:#000000;stroke-width:0.8;\" x=\"30.103125\" xlink:href=\"#m277cc869d8\" y=\"185.820256\"/>\n      </g>\n     </g>\n     <g id=\"text_9\">\n      <!-- 0.2 -->\n      <g transform=\"translate(7.2 189.619474)scale(0.1 -0.1)\">\n       <use xlink:href=\"#DejaVuSans-48\"/>\n       <use x=\"63.623047\" xlink:href=\"#DejaVuSans-46\"/>\n       <use x=\"95.410156\" xlink:href=\"#DejaVuSans-50\"/>\n      </g>\n     </g>\n    </g>\n    <g id=\"ytick_3\">\n     <g id=\"line2d_9\">\n      <g>\n       <use style=\"stroke:#000000;stroke-width:0.8;\" x=\"30.103125\" xlink:href=\"#m277cc869d8\" y=\"146.28571\"/>\n      </g>\n     </g>\n     <g id=\"text_10\">\n      <!-- 0.4 -->\n      <g transform=\"translate(7.2 150.084929)scale(0.1 -0.1)\">\n       <use xlink:href=\"#DejaVuSans-48\"/>\n       <use x=\"63.623047\" xlink:href=\"#DejaVuSans-46\"/>\n       <use x=\"95.410156\" xlink:href=\"#DejaVuSans-52\"/>\n      </g>\n     </g>\n    </g>\n    <g id=\"ytick_4\">\n     <g id=\"line2d_10\">\n      <g>\n       <use style=\"stroke:#000000;stroke-width:0.8;\" x=\"30.103125\" xlink:href=\"#m277cc869d8\" y=\"106.751165\"/>\n      </g>\n     </g>\n     <g id=\"text_11\">\n      <!-- 0.6 -->\n      <g transform=\"translate(7.2 110.550384)scale(0.1 -0.1)\">\n       <use xlink:href=\"#DejaVuSans-48\"/>\n       <use x=\"63.623047\" xlink:href=\"#DejaVuSans-46\"/>\n       <use x=\"95.410156\" xlink:href=\"#DejaVuSans-54\"/>\n      </g>\n     </g>\n    </g>\n    <g id=\"ytick_5\">\n     <g id=\"line2d_11\">\n      <g>\n       <use style=\"stroke:#000000;stroke-width:0.8;\" x=\"30.103125\" xlink:href=\"#m277cc869d8\" y=\"67.216619\"/>\n      </g>\n     </g>\n     <g id=\"text_12\">\n      <!-- 0.8 -->\n      <g transform=\"translate(7.2 71.015838)scale(0.1 -0.1)\">\n       <use xlink:href=\"#DejaVuSans-48\"/>\n       <use x=\"63.623047\" xlink:href=\"#DejaVuSans-46\"/>\n       <use x=\"95.410156\" xlink:href=\"#DejaVuSans-56\"/>\n      </g>\n     </g>\n    </g>\n    <g id=\"ytick_6\">\n     <g id=\"line2d_12\">\n      <g>\n       <use style=\"stroke:#000000;stroke-width:0.8;\" x=\"30.103125\" xlink:href=\"#m277cc869d8\" y=\"27.682074\"/>\n      </g>\n     </g>\n     <g id=\"text_13\">\n      <!-- 1.0 -->\n      <g transform=\"translate(7.2 31.481293)scale(0.1 -0.1)\">\n       <use xlink:href=\"#DejaVuSans-49\"/>\n       <use x=\"63.623047\" xlink:href=\"#DejaVuSans-46\"/>\n       <use x=\"95.410156\" xlink:href=\"#DejaVuSans-48\"/>\n      </g>\n     </g>\n    </g>\n    <g id=\"text_14\">\n     <!-- 1e18 -->\n     <g transform=\"translate(30.103125 14.798437)scale(0.1 -0.1)\">\n      <use xlink:href=\"#DejaVuSans-49\"/>\n      <use x=\"63.623047\" xlink:href=\"#DejaVuSans-101\"/>\n      <use x=\"125.146484\" xlink:href=\"#DejaVuSans-49\"/>\n      <use x=\"188.769531\" xlink:href=\"#DejaVuSans-56\"/>\n     </g>\n    </g>\n   </g>\n   <g id=\"line2d_13\">\n    <path clip-path=\"url(#pefa0ec28f9)\" d=\"M 45.321307 225.354801 \nL 48.395687 223.358107 \nL 51.470067 221.361413 \nL 54.544447 219.364718 \nL 57.618827 217.368024 \nL 60.693208 215.37133 \nL 63.767588 213.374636 \nL 66.841968 211.377942 \nL 69.916348 209.381247 \nL 72.990728 207.384553 \nL 76.065108 205.387859 \nL 79.139489 203.391165 \nL 82.213869 201.394471 \nL 85.288249 199.397776 \nL 88.362629 197.401082 \nL 91.437009 195.404388 \nL 94.511389 193.407694 \nL 97.58577 191.410999 \nL 100.66015 189.414305 \nL 103.73453 187.417611 \nL 106.80891 185.420917 \nL 109.88329 183.424223 \nL 112.95767 181.427528 \nL 116.032051 179.430834 \nL 119.106431 177.43414 \nL 122.180811 175.437446 \nL 125.255191 173.440752 \nL 128.329571 171.444057 \nL 131.403951 169.447363 \nL 134.478332 167.450669 \nL 137.552712 165.453975 \nL 140.627092 163.45728 \nL 143.701472 161.460586 \nL 146.775852 159.463892 \nL 149.850232 157.467198 \nL 152.924613 155.470504 \nL 155.998993 153.473809 \nL 159.073373 151.477115 \nL 162.147753 149.480421 \nL 165.222133 147.483727 \nL 168.296513 145.487033 \nL 171.370894 143.490338 \nL 174.445274 141.493644 \nL 177.519654 139.49695 \nL 180.594034 137.500256 \nL 183.668414 135.503561 \nL 186.742794 133.506867 \nL 189.817175 131.510173 \nL 192.891555 129.513479 \nL 195.965935 127.516785 \nL 199.040315 125.52009 \nL 202.114695 123.523396 \nL 205.189075 121.526702 \nL 208.263456 119.530008 \nL 211.337836 117.533314 \nL 214.412216 115.536619 \nL 217.486596 113.539925 \nL 220.560976 111.543231 \nL 223.635356 109.546537 \nL 226.709737 107.549842 \nL 229.784117 105.553148 \nL 232.858497 103.556454 \nL 235.932877 101.55976 \nL 239.007257 99.563066 \nL 242.081637 97.566371 \nL 245.156018 95.569677 \nL 248.230398 93.572983 \nL 251.304778 91.576289 \nL 254.379158 89.579595 \nL 257.453538 87.5829 \nL 260.527918 85.586206 \nL 263.602299 83.589512 \nL 266.676679 81.592818 \nL 269.751059 79.596123 \nL 272.825439 77.599429 \nL 275.899819 75.602735 \nL 278.974199 73.606041 \nL 282.04858 71.609347 \nL 285.12296 69.612652 \nL 288.19734 67.615958 \nL 291.27172 65.619264 \nL 294.3461 63.62257 \nL 297.42048 61.625876 \nL 300.494861 59.629181 \nL 303.569241 57.632487 \nL 306.643621 55.635793 \nL 309.718001 53.639099 \nL 312.792381 51.642404 \nL 315.866761 49.64571 \nL 318.941142 47.649016 \nL 322.015522 45.652322 \nL 325.089902 43.655628 \nL 328.164282 41.658933 \nL 331.238662 39.662239 \nL 334.313042 37.665545 \nL 337.387423 35.668851 \nL 340.461803 33.672157 \nL 343.536183 31.675462 \nL 346.610563 29.678768 \nL 349.684943 27.682074 \n\" style=\"fill:none;stroke:#1f77b4;stroke-linecap:square;stroke-width:1.5;\"/>\n   </g>\n   <g id=\"patch_3\">\n    <path d=\"M 30.103125 235.238438 \nL 30.103125 17.798438 \n\" style=\"fill:none;stroke:#000000;stroke-linecap:square;stroke-linejoin:miter;stroke-width:0.8;\"/>\n   </g>\n   <g id=\"patch_4\">\n    <path d=\"M 364.903125 235.238438 \nL 364.903125 17.798438 \n\" style=\"fill:none;stroke:#000000;stroke-linecap:square;stroke-linejoin:miter;stroke-width:0.8;\"/>\n   </g>\n   <g id=\"patch_5\">\n    <path d=\"M 30.103125 235.238438 \nL 364.903125 235.238438 \n\" style=\"fill:none;stroke:#000000;stroke-linecap:square;stroke-linejoin:miter;stroke-width:0.8;\"/>\n   </g>\n   <g id=\"patch_6\">\n    <path d=\"M 30.103125 17.798438 \nL 364.903125 17.798438 \n\" style=\"fill:none;stroke:#000000;stroke-linecap:square;stroke-linejoin:miter;stroke-width:0.8;\"/>\n   </g>\n  </g>\n </g>\n <defs>\n  <clipPath id=\"pefa0ec28f9\">\n   <rect height=\"217.44\" width=\"334.8\" x=\"30.103125\" y=\"17.798438\"/>\n  </clipPath>\n </defs>\n</svg>\n",
      "image/png": "[encoded data removed]"
     },
     "metadata": {
      "needs_background": "light"
     }
    }
   ],
   "source": [
    "import numpy as np\n",
    "import matplotlib.pyplot as plt\n",
    "from scipy import optimize\n",
    "\n",
    "x = np.linspace(0,10**18,100)\n",
    "# plt.plot(x, np.power(2, x/1.5))\n",
    "# plt.plot(x, 2**(x/1.5))\n",
    "plt.plot(x, x+3.0/(2**(x/1.5)))\n",
    "\n",
    "a = optimize.brent(lambda x: x+3.0/(2**(x/1.5)))"
   ]
  },
  {
   "cell_type": "code",
   "execution_count": 21,
   "metadata": {},
   "outputs": [
    {
     "output_type": "execute_result",
     "data": {
      "text/plain": "0.7068504108942372"
     },
     "metadata": {},
     "execution_count": 21
    }
   ],
   "source": [
    "a"
   ]
  },
  {
   "cell_type": "code",
   "execution_count": null,
   "metadata": {},
   "outputs": [],
   "source": []
  }
 ],
 "metadata": {
  "language_info": {
   "name": "python",
   "codemirror_mode": {
    "name": "ipython",
    "version": 3
   },
   "version": "3.7.5-final"
  },
  "orig_nbformat": 2,
  "file_extension": ".py",
  "mimetype": "text/x-python",
  "name": "python",
  "npconvert_exporter": "python",
  "pygments_lexer": "ipython3",
  "version": 3,
  "kernelspec": {
   "name": "7c7b45ef-7160-4f04-9b63-b2648969339f",
   "display_name": "'Python Interactive'"
  }
 },
 "nbformat": 4,
 "nbformat_minor": 2
}