{
 "cells": [
  {
   "cell_type": "markdown",
   "metadata": {},
   "source": [
    "# qiitaの [レッドコーダーが教える、競プロ・AtCoder上達のガイドライン【中級編：目指せ水色コーダー！】](https://qiita.com/e869120/items/eb50fdaece12be418faa#2-3-%E5%88%86%E9%87%8E%E5%88%A5%E5%88%9D%E4%B8%AD%E7%B4%9A%E8%80%85%E3%81%8C%E8%A7%A3%E3%81%8F%E3%81%B9%E3%81%8D%E9%81%8E%E5%8E%BB%E5%95%8F%E7%B2%BE%E9%81%B8-100-%E5%95%8F) を解く\n",
    "2020/04/19~"
   ]
  },
  {
   "cell_type": "code",
   "execution_count": 2,
   "metadata": {},
   "outputs": [
    {
     "output_type": "display_data",
     "data": {
      "text/plain": "Textarea(value='')",
      "application/vnd.jupyter.widget-view+json": {
       "version_major": 2,
       "version_minor": 0,
       "model_id": "47a0d3f5a98f4b9b93a1c52cf54edbfd"
      }
     },
     "metadata": {}
    }
   ],
   "source": [
    "from ipywidgets import Textarea\n",
    "import io\n",
    "\n",
    "if 'open' in globals():\n",
    "    del open\n",
    "original_open = open\n",
    "\n",
    "class custom_open():\n",
    "    def __init__(self):\n",
    "        self.text = ''\n",
    "\n",
    "    def __call__(self, file, *args, **kwargs):\n",
    "        if file == 0:\n",
    "            return io.StringIO(self.text)\n",
    "        return original_open(file, *args, **kwargs)\n",
    "\n",
    "    def updater(self, change):\n",
    "        self.text = change[\"new\"]\n",
    "\n",
    "open = custom_open()\n",
    "text_area = Textarea()\n",
    "text_area.observe(open.updater, names='value')\n",
    "display(text_area)"
   ]
  },
  {
   "cell_type": "markdown",
   "metadata": {},
   "source": [
    "## 全探索：全列挙"
   ]
  },
  {
   "cell_type": "markdown",
   "metadata": {},
   "source": [
    "### [1　ITP1_7_B - How Many Ways?](http://judge.u-aizu.ac.jp/onlinejudge/description.jsp?id=ITP1_7_B&lang=ja)"
   ]
  },
  {
   "cell_type": "code",
   "execution_count": 34,
   "metadata": {},
   "outputs": [
    {
     "output_type": "stream",
     "name": "stdout",
     "text": "2\n"
    }
   ],
   "source": [
    "import itertools\n",
    "\n",
    "while True:\n",
    "    n, x = map(int, input().split(' '))\n",
    "    if (n == 0) & (x == 0): break\n",
    "\n",
    "    ret = 0\n",
    "    for v in itertools.combinations(list(range(1, n + 1)), 3):\n",
    "        if sum(v) == x:\n",
    "            ret += 1\n",
    "\n",
    "    print(ret)"
   ]
  },
  {
   "cell_type": "markdown",
   "metadata": {},
   "source": [
    "### [2　AtCoder Beginner Contest 106 B - 105](https://atcoder.jp/contests/abc106/tasks/abc106_b)"
   ]
  },
  {
   "cell_type": "code",
   "execution_count": 36,
   "metadata": {},
   "outputs": [
    {
     "output_type": "stream",
     "name": "stdout",
     "text": "1\n"
    }
   ],
   "source": [
    "n = int(input())\n",
    "\n",
    "def make_divisors(n):\n",
    "    divisors = []\n",
    "    for i in range(1, int(n**0.5)+1):\n",
    "        if n % i == 0:\n",
    "            divisors.append(i)\n",
    "            if i != n // i:\n",
    "                divisors.append(n//i)\n",
    "    return divisors\n",
    "\n",
    "ret = 0\n",
    "for ni in range(1, n+1):\n",
    "    if ni % 2 == 0 :continue\n",
    "    divisors = make_divisors(ni)\n",
    "    if len(divisors) == 8:\n",
    "        ret += 1\n",
    "\n",
    "print(ret)"
   ]
  },
  {
   "cell_type": "markdown",
   "metadata": {},
   "source": [
    "### [3　AtCoder Beginner Contest 122 B - ATCoder](https://atcoder.jp/contests/abc122/tasks/abc122_b)"
   ]
  },
  {
   "cell_type": "code",
   "execution_count": 40,
   "metadata": {},
   "outputs": [
    {
     "output_type": "stream",
     "name": "stdout",
     "text": "0\n"
    }
   ],
   "source": [
    "s = input()\n",
    "\n",
    "compare = ['A', 'C', 'G', 'T']\n",
    "max_str = ''\n",
    "tmp = ''\n",
    "for si in s:\n",
    "    if si in compare:\n",
    "        tmp += si\n",
    "        if len(tmp) > len(max_str):\n",
    "            max_str = tmp\n",
    "    else:\n",
    "        tmp = ''\n",
    "\n",
    "print(len(max_str))"
   ]
  },
  {
   "cell_type": "markdown",
   "metadata": {},
   "source": [
    "### [4　パ研杯2019 C - カラオケ](https://atcoder.jp/contests/pakencamp-2019-day3/tasks/pakencamp_2019_day3_c)"
   ]
  },
  {
   "cell_type": "code",
   "execution_count": 42,
   "metadata": {},
   "outputs": [
    {
     "output_type": "stream",
     "name": "stdout",
     "text": "250\n"
    }
   ],
   "source": [
    "import itertools\n",
    "\n",
    "n, m = map(int, input().split(' '))\n",
    "a = []\n",
    "for _ in range(n):\n",
    "    a.append(list(map(int, input().split(' '))))\n",
    "\n",
    "max_point = 0\n",
    "for m1, m2 in itertools.combinations(list(range(m)), 2):\n",
    "    tmp_point = 0\n",
    "    for ni in range(n):\n",
    "        tmp_point += max(a[ni][m1], a[ni][m2])\n",
    "    if max_point < tmp_point:\n",
    "        max_point = tmp_point\n",
    "\n",
    "print(max_point)"
   ]
  },
  {
   "cell_type": "markdown",
   "metadata": {},
   "source": [
    "## 全探索：工夫して通り数を減らす全列挙"
   ]
  },
  {
   "cell_type": "markdown",
   "metadata": {},
   "source": [
    "### [5　AtCoder Beginner Contest 095 C - Half and Half](https://atcoder.jp/contests/abc095/tasks/arc096_a)"
   ]
  },
  {
   "cell_type": "code",
   "execution_count": 6,
   "metadata": {},
   "outputs": [
    {
     "output_type": "stream",
     "name": "stdout",
     "text": "100000000\n"
    }
   ],
   "source": [
    "a, b, c, x, y = map(int, input().split(' '))\n",
    "\n",
    "ans1 = c*max(x, y)*2\n",
    "\n",
    "tmp = min(x, y)\n",
    "ans2 = c*tmp*2 + a*max(x-tmp, 0) + b*max(y-tmp, 0)\n",
    "\n",
    "ans3 = a*x + b*y\n",
    "\n",
    "print(min(ans1, ans2, ans3))"
   ]
  },
  {
   "cell_type": "markdown",
   "metadata": {},
   "source": [
    "### [6　三井住友信託銀行プログラミングコンテスト 2019 D - Lucky PIN](https://atcoder.jp/contests/sumitrust2019/tasks/sumitb2019_d)"
   ]
  },
  {
   "cell_type": "code",
   "execution_count": 41,
   "metadata": {
    "tags": [
     "outputPrepend"
    ]
   },
   "outputs": [
    {
     "output_type": "stream",
     "name": "stdout",
     "text": "329\n"
    }
   ],
   "source": [
    "n = int(input())\n",
    "s = input()\n",
    "\n",
    "import itertools\n",
    "\n",
    "# 想定される答えから探索する\n",
    "d = list()\n",
    "for d1, d2, d3 in itertools.product(range(10), range(10), range(10)):\n",
    "    d.append(str(d1) + str(d2) + str(d3))\n",
    "\n",
    "ret = 0\n",
    "for di in d:\n",
    "    ls = list(s)\n",
    "    try:\n",
    "        idx1 = ls.index(di[0])\n",
    "        idx2 = ls[idx1+1:].index(di[1])\n",
    "        idx3 = ls[idx1+1:][idx2+1:].index(di[2])\n",
    "        ret += 1\n",
    "    except:\n",
    "        continue\n",
    "\n",
    "print(ret)"
   ]
  },
  {
   "cell_type": "markdown",
   "metadata": {},
   "source": [
    "### [7　JOI 2007 本選 3 - 最古の遺跡](https://atcoder.jp/contests/joi2007ho/tasks/joi2007ho_c)"
   ]
  },
  {
   "cell_type": "code",
   "execution_count": 64,
   "metadata": {
    "tags": [
     "outputPrepend"
    ]
   },
   "outputs": [
    {
     "output_type": "stream",
     "name": "stdout",
     "text": "417290\n"
    }
   ],
   "source": [
    "cin = open(0).read().split('\\n')\n",
    "\n",
    "n = int(cin[0])\n",
    "pos = []\n",
    "for idx in range(n):\n",
    "    x, y = map(int, cin[idx+1].split(' '))\n",
    "    pos.append((x, y))\n",
    "\n",
    "pos = list(sorted(pos))\n",
    "pos_dict = set(pos)\n",
    "ret = 0\n",
    "for idx1 in range(n):\n",
    "    x1, y1 = pos[idx1]\n",
    "    for idx2 in range(idx1+1, n):\n",
    "        x2, y2 = pos[idx2]\n",
    "        vectorx, vectory = x2 - x1, y2 - y1\n",
    "        # & → andにしただけで1secくらい短くなった、、\n",
    "        # tupleは変数代入せずにinで比較した方が速い\n",
    "        if ((x2 - vectory, y2 + vectorx) in pos_dict) and ((x1 - vectory, y1 + vectorx) in pos_dict):\n",
    "            ret = max(ret, vectorx**2 + vectory**2)\n",
    "\n",
    "print(ret)"
   ]
  },
  {
   "cell_type": "markdown",
   "metadata": {},
   "source": [
    "### [8　Square869120Contest #6 B - AtCoder Markets](https://atcoder.jp/contests/s8pc-6/tasks/s8pc_6_b)"
   ]
  },
  {
   "cell_type": "code",
   "execution_count": null,
   "metadata": {},
   "outputs": [],
   "source": []
  },
  {
   "cell_type": "code",
   "execution_count": null,
   "metadata": {},
   "outputs": [],
   "source": []
  }
 ],
 "metadata": {
  "language_info": {
   "name": "python",
   "codemirror_mode": {
    "name": "ipython",
    "version": 3
   },
   "version": "3.7.5-final"
  },
  "orig_nbformat": 2,
  "file_extension": ".py",
  "mimetype": "text/x-python",
  "name": "python",
  "npconvert_exporter": "python",
  "pygments_lexer": "ipython3",
  "version": 3,
  "kernelspec": {
   "name": "7c7b45ef-7160-4f04-9b63-b2648969339f",
   "display_name": "'Python Interactive'"
  }
 },
 "nbformat": 4,
 "nbformat_minor": 2
}